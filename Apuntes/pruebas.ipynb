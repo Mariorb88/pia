{
 "cells": [
  {
   "cell_type": "markdown",
   "metadata": {},
   "source": [
    "# Calcular la media de una columna en base a otra"
   ]
  },
  {
   "cell_type": "code",
   "execution_count": 1,
   "metadata": {},
   "outputs": [
    {
     "name": "stdout",
     "output_type": "stream",
     "text": [
      "   columna_a columna_b\n",
      "0       10.0    grupo1\n",
      "1       20.0    grupo1\n",
      "2       15.0    grupo1\n",
      "3       30.0    grupo2\n",
      "4       35.0    grupo2\n",
      "5       40.0    grupo2\n",
      "6       50.0    grupo3\n",
      "7       50.0    grupo3\n"
     ]
    }
   ],
   "source": [
    "import pandas as pd\n",
    "\n",
    "# Crear un DataFrame de ejemplo\n",
    "data = {\n",
    "    'columna_a': [10, 20, None, 30, None, 40, 50, None],\n",
    "    'columna_b': ['grupo1', 'grupo1', 'grupo1', 'grupo2', 'grupo2', 'grupo2', 'grupo3', 'grupo3']\n",
    "}\n",
    "\n",
    "df = pd.DataFrame(data)\n",
    "\n",
    "# Agrupar por 'columna_b' y calcular la media de 'columna_a' para cada grupo\n",
    "media_por_grupo = df.groupby('columna_b')['columna_a'].transform('mean')\n",
    "\n",
    "# Reemplazar los valores nulos en 'columna_a' con la media correspondiente\n",
    "df['columna_a'] = df['columna_a'].fillna(media_por_grupo)\n",
    "\n",
    "print(df)"
   ]
  }
 ],
 "metadata": {
  "kernelspec": {
   "display_name": "t5",
   "language": "python",
   "name": "python3"
  },
  "language_info": {
   "codemirror_mode": {
    "name": "ipython",
    "version": 3
   },
   "file_extension": ".py",
   "mimetype": "text/x-python",
   "name": "python",
   "nbconvert_exporter": "python",
   "pygments_lexer": "ipython3",
   "version": "3.10.13"
  }
 },
 "nbformat": 4,
 "nbformat_minor": 2
}
