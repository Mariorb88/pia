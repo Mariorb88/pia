{
 "cells": [
  {
   "cell_type": "code",
   "execution_count": 1,
   "id": "39e50cc0",
   "metadata": {},
   "outputs": [
    {
     "name": "stdout",
     "output_type": "stream",
     "text": [
      "rojo\n",
      "verde\n",
      "azul\n",
      "rojo → #FF0000\n",
      "verde → #00FF00\n",
      "azul → #0000FF\n",
      "#FF0000\n",
      "#00FF00\n",
      "#0000FF\n"
     ]
    }
   ],
   "source": [
    "mi_diccionario = {}\n",
    "\n",
    "\n",
    "mi_diccionario[\"rojo\"] = \"#FF0000\"\n",
    "mi_diccionario[\"verde\"] = \"#00FF00\"\n",
    "mi_diccionario[\"azul\"] = \"#0000FF\"\n",
    "\n",
    "\n",
    "for clave in mi_diccionario:\n",
    "    print(clave)\n",
    "    \n",
    "for clave, valor in mi_diccionario.items():\n",
    "    print(f\"{clave} → {valor}\")\n",
    "\n",
    "\n",
    "for valor in mi_diccionario.values():\n",
    "    print(valor)\n",
    "\n"
   ]
  }
 ],
 "metadata": {
  "kernelspec": {
   "display_name": "tf_master_env",
   "language": "python",
   "name": "python3"
  },
  "language_info": {
   "codemirror_mode": {
    "name": "ipython",
    "version": 3
   },
   "file_extension": ".py",
   "mimetype": "text/x-python",
   "name": "python",
   "nbconvert_exporter": "python",
   "pygments_lexer": "ipython3",
   "version": "3.10.0"
  }
 },
 "nbformat": 4,
 "nbformat_minor": 5
}
