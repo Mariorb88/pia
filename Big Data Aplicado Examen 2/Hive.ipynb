{
 "cells": [
  {
   "cell_type": "markdown",
   "id": "ea02d526",
   "metadata": {},
   "source": [
    "## Crear una tabla externa indicando el directorio."
   ]
  },
  {
   "cell_type": "code",
   "execution_count": null,
   "id": "d82b10b0",
   "metadata": {},
   "outputs": [],
   "source": [
    "CREATE EXTERNAL TABLE docs (\n",
    "  line STRING\n",
    ")\n",
    "ROW FORMAT DELIMITED\n",
    "FIELDS TERMINATED BY '\\n'\n",
    "STORED AS TEXTFILE\n",
    "LOCATION '/user/administrador/datos/';\n"
   ]
  },
  {
   "cell_type": "markdown",
   "id": "3d4736ab",
   "metadata": {},
   "source": [
    "## Consultar datos"
   ]
  },
  {
   "cell_type": "code",
   "execution_count": null,
   "id": "d50cb749",
   "metadata": {},
   "outputs": [],
   "source": [
    "SELECT * FROM docs LIMIT 10;"
   ]
  },
  {
   "cell_type": "code",
   "execution_count": null,
   "id": "c19ee56e",
   "metadata": {},
   "outputs": [],
   "source": [
    "SELECT palabra, COUNT(*) AS ocurrencias\n",
    "FROM (\n",
    "  SELECT explode(split(lower(line), '\\\\s+')) AS palabra\n",
    "  FROM docs\n",
    ") tmp\n",
    "GROUP BY palabra\n",
    "ORDER BY ocurrencias DESC\n",
    "LIMIT 100;\n"
   ]
  }
 ],
 "metadata": {
  "language_info": {
   "name": "python"
  }
 },
 "nbformat": 4,
 "nbformat_minor": 5
}
