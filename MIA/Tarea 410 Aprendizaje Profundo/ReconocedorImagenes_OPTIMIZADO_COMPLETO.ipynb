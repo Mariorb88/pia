{
 "cells": [
  {
   "cell_type": "markdown",
   "metadata": {
    "id": "y-itwT3GVIRx"
   },
   "source": []
  },
  {
   "cell_type": "code",
   "execution_count": null,
   "metadata": {
    "colab": {
     "base_uri": "https://localhost:8080/"
    },
    "id": "O1X8wL82WJpS",
    "outputId": "067bde9d-db13-4a3e-9bcc-bd5bf8bbc379"
   },
   "outputs": [],
   "source": [
    "# Pipeline optimizado para entrenamiento (comentario Mario)\n",
    "datosEntrenamiento = datasetTotal.take(NUM_ENTRENAMIENTO)\n",
    "datosEntrenamiento = datosEntrenamiento\\\n",
    "    .map(lambda img, lbl: NORMALIZAR(img, lbl, TAMAÑO_IMAGEN), num_parallel_calls=AUTOTUNE)\\\n",
    "    .cache()\\\n",
    "    .shuffle(buffer_size=NUM_ENTRENAMIENTO)\\\n",
    "    .batch(TAMAÑO_LOTE)\\\n",
    "    .prefetch(AUTOTUNE)\n"
   ]
  }
 ],
 "metadata": {
  "accelerator": "GPU",
  "colab": {
   "gpuType": "T4",
   "provenance": []
  },
  "kernelspec": {
   "display_name": "Python 3",
   "name": "python3"
  }
 },
 "nbformat": 4,
 "nbformat_minor": 0
}
