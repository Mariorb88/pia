{
  "cells": [
    {
      "cell_type": "markdown",
      "source": [
        "# **RED NEURONAL CELSIUS - FAHRENHEIT**"
      ],
      "metadata": {
        "id": "i66Z7UymYVmO"
      }
    },
    {
      "cell_type": "markdown",
      "source": [
        "# **1. Instalación de las bibliotecas necesarias**\n",
        "---"
      ],
      "metadata": {
        "id": "ZiQew8N0ps8e"
      }
    },
    {
      "cell_type": "code",
      "source": [
        "#-----------------------------------------------------------------------------------------------------\n",
        "# 1.  Instalación de las bibliotecas necesarias\n",
        "#-----------------------------------------------------------------------------------------------------\n",
        "import tensorflow as tf\n",
        "import numpy as np\n",
        "import random\n",
        "import matplotlib.pyplot as plt\n",
        "\n",
        "from keras.layers import Dense"
      ],
      "metadata": {
        "id": "sBqn6zNoptE-"
      },
      "execution_count": null,
      "outputs": []
    },
    {
      "cell_type": "markdown",
      "source": [
        "# **2. Preparación de los datos**\n",
        "---"
      ],
      "metadata": {
        "id": "iY-benQlptOt"
      }
    },
    {
      "cell_type": "code",
      "source": [
        "#------------------------------------------------------------------------\n",
        "# 2. Preparación de los datos\n",
        "#------------------------------------------------------------------------\n",
        "# 2.1. Creación de dos funciones\n",
        "#-------------------------------------------------------------------------------\n",
        "def celsiusFahrenheit(celsius):\n",
        "    fahrenheit = ((celsius * 1.8) + 32)\n",
        "    return fahrenheit\n",
        "\n",
        "def FahrenheitError(fahrenheit):\n",
        "    fahrenheit = fahrenheit * (1 + (random.random() - random.random()) * 0.25)\n",
        "    return fahrenheit\n",
        "\n",
        "#-------------------------------------------------------------------------------\n",
        "# 2.2. Generación de dos tablas: una para grados Celsius y otra para Fahrenheit\n",
        "#      La lista Celsius es la de entrada de datos y la Fahrenheit la de salida\n",
        "#-------------------------------------------------------------------------------\n",
        "CELSIUS = np.random.randint(-50, 50, size=random.randint(10, 100))\n",
        "#FAHRENHEIT = celsiusFahrenheit( CELSIUS )\n",
        "FAHRENHEIT = FahrenheitError(celsiusFahrenheit(CELSIUS))"
      ],
      "metadata": {
        "id": "ELkNHIOJptWt"
      },
      "execution_count": null,
      "outputs": []
    },
    {
      "cell_type": "markdown",
      "source": [
        "# **3. Elección del modelo**\n",
        "---"
      ],
      "metadata": {
        "id": "T7p9dR2SptfV"
      }
    },
    {
      "cell_type": "code",
      "source": [
        "#------------------------------------------------------------------------\n",
        "# 3. Elección del modelo\n",
        "#------------------------------------------------------------------------\n",
        "modelo = tf.keras.Sequential()"
      ],
      "metadata": {
        "id": "fI89SiuTptmu"
      },
      "execution_count": null,
      "outputs": []
    },
    {
      "cell_type": "markdown",
      "source": [
        "# **4. Configuración de los parámetros del modelo**\n",
        "---"
      ],
      "metadata": {
        "id": "QxXsnkh-ptut"
      }
    },
    {
      "cell_type": "code",
      "source": [
        "#------------------------------------------------------------------------\n",
        "# 4. Configuración de los parámetros del modelo:\n",
        "#------------------------------------------------------------------------\n",
        "#     El modelo elegido es el más sencillo: Perceptron\n",
        "#       salida = peso  * X  + bias\n",
        "#       salida = peso1 * X1 + peso2 * X2 + bias\n",
        "#-------------------------------------------------------------------------------\n",
        "modelo = tf.keras.Sequential()\n",
        "modelo.add( Dense( units = 1, input_shape = [ 1 ] ) )   # Capa de entrada con 1 neurona\n"
      ],
      "metadata": {
        "id": "EGXxPE7dpt1u"
      },
      "execution_count": null,
      "outputs": []
    },
    {
      "cell_type": "markdown",
      "source": [
        "# **5. Compilación del modelo:** compile( optimizer, loss, metrics )\n",
        "---"
      ],
      "metadata": {
        "id": "U49UjasEpt9d"
      }
    },
    {
      "cell_type": "code",
      "source": [
        "#------------------------------------------------------------------------\n",
        "# 5. Compilación del modelo\n",
        "#------------------------------------------------------------------------\n",
        "#     optimizer: algoritmo de optimización con el que se entrenará el modelo.\n",
        "#     loss: función de pérdida que se minimizará durante el entrenamiento\n",
        "#     metrics: métricas que monitorean el entrenamiento y la evaluación del modelo\n",
        "#             - accuracy  métrica de clasificación que mide la fracción de muestras correctamente clasificadas\n",
        "#             - loss      medida de cuánto difieren las predicciones de los valores reales.\n",
        "#-------------------------------------------------------------------------------\n",
        "modelo.compile(\n",
        "    optimizer=tf.keras.optimizers.Adam(0.1),    # Tasa de aprendizaje\n",
        "    loss='mean_squared_error',                  # Función de pérdida para regresión\n",
        "    metrics=['mean_squared_error']              # Métrica para evaluar durante el entrenamiento\n",
        ")\n"
      ],
      "metadata": {
        "id": "3SpViW0KpuEV"
      },
      "execution_count": null,
      "outputs": []
    },
    {
      "cell_type": "markdown",
      "source": [
        "# **6. Entrenamiento del modelo**\n",
        "---"
      ],
      "metadata": {
        "id": "Gd7hu8nvpuMe"
      }
    },
    {
      "cell_type": "code",
      "source": [
        "#------------------------------------------------------------------------\n",
        "# 6. Entrenamiento del modelo\n",
        "#------------------------------------------------------------------------\n",
        "#     Se utiliza la función fit sobre el modelo, especificando:\n",
        "#       - Datos de entrada: 'celsius'\n",
        "#       - Datos de salida esperados: 'fahrenheit'\n",
        "#       - Número de interaciones: 'epochs'\n",
        "#       - Si muestra evolución por pantalla: 'verbose'\n",
        "#-------------------------------------------------------------------------------\n",
        "print(\"Comenzamos el entrenamiento ...\")\n",
        "ACIERTOS = 0.75   # 75% de aciertos\n",
        "INTENTOS = 0\n",
        "\n",
        "while True:\n",
        "    historial = modelo.fit(CELSIUS,\n",
        "                           FAHRENHEIT,\n",
        "                           epochs=50,\n",
        "                           verbose=False)\n",
        "    INTENTOS = INTENTOS + 1\n",
        "    # Obtener la precisión del último registro en el historial de entrenamiento\n",
        "    perdida = historial.history['loss'][-1]\n",
        "    #precision = historial.history['accuracy'][0]\n",
        "\n",
        "    print(f\"Iteración {INTENTOS} - Pérdida: {perdida}\")\n",
        "\n",
        "    if perdida < 0.01:  # Criterio de parada\n",
        "        break\n",
        "\n",
        "\n",
        "print(\"Modelo ya entrenado ...\" )\n",
        "\n",
        "print( f\"Totalidad de elementos {len(CELSIUS)}\" )\n"
      ],
      "metadata": {
        "id": "cB5q8F2wpuTV"
      },
      "execution_count": null,
      "outputs": []
    },
    {
      "cell_type": "markdown",
      "source": [
        "# **7. Evaluación del modelo**\n",
        "---"
      ],
      "metadata": {
        "id": "CozYKFNYpube"
      }
    },
    {
      "cell_type": "code",
      "source": [
        "#------------------------------------------------------------------------\n",
        "# 7. Evaluación del modelo\n",
        "#------------------------------------------------------------------------\n",
        "evaluacion = modelo.evaluate( CELSIUS, FAHRENHEIT, verbose = 0 )\n",
        "print( \"Resultados de la evaluación:\" )\n",
        "print( \"----------------------------\" )\n",
        "print( f\"Pérdida: {evaluacion[ 0 ]   * 100:.2f}%\" )\n",
        "print( f\"Precisión: {evaluacion[ 1 ] * 100:.2f}%\" )"
      ],
      "metadata": {
        "id": "splixv8OpukO"
      },
      "execution_count": null,
      "outputs": []
    },
    {
      "cell_type": "markdown",
      "source": [
        "# **8. Predicción o inferencia del modelo**\n",
        "---"
      ],
      "metadata": {
        "id": "0Z3IRmbUpusm"
      }
    },
    {
      "cell_type": "code",
      "source": [
        "#------------------------------------------------------------------------\n",
        "# 8. Predicción o inferencia\n",
        "#------------------------------------------------------------------------\n",
        "# Generar predicciones\n",
        "predicciones = modelo.predict( CELSIUS )\n",
        "\n",
        "# Gráfico de dispersión de datos reales\n",
        "plt.scatter( CELSIUS, FAHRENHEIT, color='red', label = 'Datos reales')\n",
        "\n",
        "# Línea de predicción\n",
        "plt.plot( CELSIUS, predicciones, color='blue', label='Predicciones')\n",
        "\n",
        "# Etiquetas y título\n",
        "plt.xlabel( 'Celsius' )\n",
        "plt.ylabel( 'Fahrenheit' )\n",
        "plt.title(  'Datos reales vs Predicciones' )\n",
        "\n",
        "# Leyenda\n",
        "plt.legend()"
      ],
      "metadata": {
        "id": "u4A-eMPlpu0N"
      },
      "execution_count": null,
      "outputs": []
    },
    {
      "cell_type": "markdown",
      "source": [],
      "metadata": {
        "id": "-vc3SOPzpu-e"
      }
    },
    {
      "cell_type": "code",
      "source": [],
      "metadata": {
        "id": "WJS728DSpvFY"
      },
      "execution_count": null,
      "outputs": []
    },
    {
      "cell_type": "markdown",
      "source": [],
      "metadata": {
        "id": "zoJ5M4QqpvMO"
      }
    },
    {
      "cell_type": "code",
      "source": [
        "#-----------------------------------------------------------------------------------------------------\n",
        "# 1.  Instalación de las bibliotecas necesarias\n",
        "#-----------------------------------------------------------------------------------------------------\n",
        "import tensorflow as tf\n",
        "import numpy as np\n",
        "import random\n",
        "import matplotlib.pyplot as plt\n",
        "\n",
        "from keras.layers import Dense\n",
        "\n",
        "#------------------------------------------------------------------------\n",
        "# 2. Preparación de los datos\n",
        "#------------------------------------------------------------------------\n",
        "# 2.1. Creación de dos funciones\n",
        "#-------------------------------------------------------------------------------\n",
        "def celsiusFahrenheit(celsius):\n",
        "    fahrenheit = ((celsius * 1.8) + 32)\n",
        "    return fahrenheit\n",
        "\n",
        "def FahrenheitError(fahrenheit):\n",
        "    fahrenheit = fahrenheit * (1 + ( random.random() - random.random() ) * 0.25 )\n",
        "    return fahrenheit\n",
        "\n",
        "#-------------------------------------------------------------------------------\n",
        "# 2.2. Generación de dos tablas: una para grados Celsius y otra para Fahrenheit\n",
        "#      La lista Celsius es la de entrada de datos y la Fahrenheit la de salida\n",
        "#-------------------------------------------------------------------------------\n",
        "CELSIUS = np.random.randint( -150, 150, size = random.randint( 20, 1000 ) )\n",
        "#FAHRENHEIT = celsiusFahrenheit( CELSIUS )\n",
        "FAHRENHEIT = FahrenheitError( celsiusFahrenheit( CELSIUS ) )\n",
        "\n",
        "#------------------------------------------------------------------------\n",
        "# 3. Elección del modelo\n",
        "#------------------------------------------------------------------------\n",
        "modelo = tf.keras.Sequential()\n",
        "\n",
        "#------------------------------------------------------------------------\n",
        "# 4. Configuración de los parámetros del modelo:\n",
        "#------------------------------------------------------------------------\n",
        "#     El modelo elegido es el más sencillo: Perceptron\n",
        "#       salida = peso  * X  + bias\n",
        "#       salida = peso1 * X1 + peso2 * X2 + bias\n",
        "#-------------------------------------------------------------------------------\n",
        "modelo.add( Dense( units = 1, input_shape = [ 1 ] ) )   # Capa de entrada con 1 neurona\n",
        "\n",
        "#------------------------------------------------------------------------\n",
        "# 5. Compilación del modelo\n",
        "#------------------------------------------------------------------------\n",
        "#     optimizer: algoritmo de optimización con el que se entrenará el modelo.\n",
        "#     loss: función de pérdida que se minimizará durante el entrenamiento\n",
        "#     metrics: métricas que monitorean el entrenamiento y la evaluación del modelo\n",
        "#       - MÉTRICAS DE CLASIFICACIÓN\n",
        "#             - accuracy  métrica de clasificación que mide la fracción de muestras correctamente clasificadas\n",
        "#             - precision\n",
        "#             - recall\n",
        "#\n",
        "#       - MÉTRICAS DE REGRESIÓN\n",
        "#             - loss      medida de cuánto difieren las predicciones de los valores reales.\n",
        "#-------------------------------------------------------------------------------\n",
        "modelo.compile(\n",
        "    optimizer=tf.keras.optimizers.Adam(0.1),    # Tasa de aprendizaje\n",
        "    loss='mean_squared_error',                  # Función de pérdida para regresión\n",
        "    metrics=['mean_squared_error']              # Métrica para evaluar durante el entrenamiento\n",
        ")\n",
        "\n",
        "#------------------------------------------------------------------------\n",
        "# 6. Entrenamiento del modelo\n",
        "#------------------------------------------------------------------------\n",
        "#     Se utiliza la función fit sobre el modelo, especificando:\n",
        "#       - Datos de entrada: 'celsius'\n",
        "#       - Datos de salida esperados: 'fahrenheit'\n",
        "#       - Número de interaciones: 'epochs'\n",
        "#       - Si muestra evolución por pantalla: 'verbose'\n",
        "#-------------------------------------------------------------------------------\n",
        "print(\"Comenzamos el entrenamiento ...\")\n",
        "ACIERTOS = 0.90   # 90% de aciertos\n",
        "INTENTOS = 0\n",
        "\n",
        "while True:\n",
        "    historial = modelo.fit( CELSIUS, FAHRENHEIT, epochs = 50, verbose = False )\n",
        "    INTENTOS = INTENTOS + 1\n",
        "    perdida = historial.history[ 'loss' ][ -1 ]\n",
        "\n",
        "    print( f\"Iteración {INTENTOS} - Pérdida: {perdida}\" )\n",
        "    if perdida < ( 1 - ACIERTOS )/100:  # Criterio de parada\n",
        "        break\n",
        "\n",
        "\n",
        "print(\"Modelo ya entrenado ...\" )\n",
        "\n",
        "print( f\"Totalidad de elementos {len(CELSIUS)}\" )\n",
        "\n",
        "#------------------------------------------------------------------------\n",
        "# 7. Evaluación del modelo\n",
        "#------------------------------------------------------------------------\n",
        "evaluacion = modelo.evaluate( CELSIUS, FAHRENHEIT, verbose = 0 )\n",
        "print( \"\\nResultados de la evaluación:\" )\n",
        "print( \"----------------------------\" )\n",
        "print( f\"Pérdida: {evaluacion[ 0 ]   * 100:.2f}%\" )\n",
        "print( f\"Precisión: {evaluacion[ 1 ] * 100:.2f}%\" )\n",
        "\n",
        "#------------------------------------------------------------------------\n",
        "# 8. Predicción o inferencia\n",
        "#------------------------------------------------------------------------\n",
        "# Generar predicciones\n",
        "predicciones = modelo.predict( CELSIUS, verbose = False )\n",
        "\n",
        "#------------------------------------------------------------------------\n",
        "# Predicción gráfica\n",
        "#------------------------------------------------------------------------\n",
        "# Gráfico de dispersión de datos reales\n",
        "plt.scatter( CELSIUS, FAHRENHEIT, color='red', label = 'Datos reales')\n",
        "\n",
        "# Línea de predicción\n",
        "plt.plot( CELSIUS, predicciones, color = 'blue', label = 'Predicciones' )\n",
        "\n",
        "# Etiquetas y título\n",
        "plt.xlabel( 'Celsius' )\n",
        "plt.ylabel( 'Fahrenheit' )\n",
        "plt.title(  'Datos reales vs Predicciones' )\n",
        "\n",
        "# Leyenda\n",
        "plt.legend()\n",
        "plt.show()\n",
        "\n",
        "#------------------------------------------------------------------------\n",
        "# Fórmula asociada\n",
        "#------------------------------------------------------------------------\n",
        "capa = modelo.layers[0]\n",
        "print( f\"Fahrenheit = Celsius * {capa.get_weights()[0][0][0]:.4f} + {capa.get_weights()[1][0]:.4f}\" )\n",
        "\n",
        "\n",
        "#------------------------------------------------------------------------\n",
        "# Predicción con un valor\n",
        "#------------------------------------------------------------------------\n",
        "print()\n",
        "print(\"Hagamos una predicción\")\n",
        "\n",
        "celsiusPrueba = random.randint(-150, 150)\n",
        "resultado = modelo.predict(np.array([celsiusPrueba]), verbose=False)\n",
        "print(f\"{celsiusPrueba}ºC son {resultado[0][0]:.4f} ºF, frente a los reales {celsiusFahrenheit(celsiusPrueba):.4f} ºF\")\n"
      ],
      "metadata": {
        "id": "9l7-gS0qpvSl"
      },
      "execution_count": null,
      "outputs": []
    }
  ],
  "metadata": {
    "colab": {
      "provenance": []
    },
    "kernelspec": {
      "display_name": "Python 3",
      "name": "python3"
    }
  },
  "nbformat": 4,
  "nbformat_minor": 0
}