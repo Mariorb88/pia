{
  "cells": [
    {
      "cell_type": "markdown",
      "metadata": {
        "id": "i66Z7UymYVmO"
      },
      "source": [
        "# **RED NEURONAL CELSIUS - FAHRENHEIT**"
      ]
    },
    {
      "cell_type": "markdown",
      "metadata": {
        "id": "ZiQew8N0ps8e"
      },
      "source": [
        "# **1. Instalación de las bibliotecas necesarias**\n",
        "---"
      ]
    },
    {
      "cell_type": "code",
      "execution_count": null,
      "metadata": {
        "id": "sBqn6zNoptE-"
      },
      "outputs": [],
      "source": [
        "#-----------------------------------------------------------------------------------------------------\n",
        "# 1.  Instalación de las bibliotecas necesarias\n",
        "#-----------------------------------------------------------------------------------------------------\n",
        "import tensorflow as tf\n",
        "import numpy as np\n",
        "import random\n",
        "import matplotlib.pyplot as plt\n",
        "\n",
        "from keras.layers import Dense\n",
        "\n"
      ]
    },
    {
      "cell_type": "markdown",
      "metadata": {
        "id": "iY-benQlptOt"
      },
      "source": [
        "# **2. Preparación de los datos**\n",
        "---"
      ]
    },
    {
      "cell_type": "code",
      "execution_count": null,
      "metadata": {
        "id": "ELkNHIOJptWt"
      },
      "outputs": [],
      "source": [
        "#------------------------------------------------------------------------\n",
        "# 2. Preparación de los datos\n",
        "#------------------------------------------------------------------------\n",
        "# 2.1. Creación de dos funciones\n",
        "#-------------------------------------------------------------------------------\n",
        "def celsiusFahrenheit(celsius):\n",
        "    fahrenheit = ((celsius * 1.8) + 32)\n",
        "    return fahrenheit\n",
        "\n",
        "def FahrenheitError(fahrenheit):\n",
        "    fahrenheit = fahrenheit * (1 + (random.random() - random.random()) * 0.25)\n",
        "    return fahrenheit\n",
        "\n",
        "#-------------------------------------------------------------------------------\n",
        "# 2.2. Generación de dos tablas: una para grados Celsius y otra para Fahrenheit\n",
        "#      La lista Celsius es la de entrada de datos y la Fahrenheit la de salida\n",
        "#-------------------------------------------------------------------------------\n",
        "CELSIUS = np.random.randint(-50, 50, size=random.randint(10, 100))\n",
        "#FAHRENHEIT = celsiusFahrenheit( CELSIUS )\n",
        "FAHRENHEIT = FahrenheitError(celsiusFahrenheit(CELSIUS))"
      ]
    },
    {
      "cell_type": "markdown",
      "metadata": {
        "id": "T7p9dR2SptfV"
      },
      "source": [
        "# **3. Elección del modelo**\n",
        "---"
      ]
    },
    {
      "cell_type": "code",
      "execution_count": 3,
      "metadata": {
        "id": "fI89SiuTptmu"
      },
      "outputs": [],
      "source": [
        "#------------------------------------------------------------------------\n",
        "# 3. Elección del modelo\n",
        "#------------------------------------------------------------------------\n",
        "modelo = tf.keras.Sequential()"
      ]
    },
    {
      "cell_type": "markdown",
      "metadata": {
        "id": "QxXsnkh-ptut"
      },
      "source": [
        "# **4. Configuración de los parámetros del modelo**\n",
        "---"
      ]
    },
    {
      "cell_type": "code",
      "execution_count": 4,
      "metadata": {
        "id": "EGXxPE7dpt1u"
      },
      "outputs": [
        {
          "name": "stderr",
          "output_type": "stream",
          "text": [
            "c:\\Users\\Mario\\FP\\.conda\\Lib\\site-packages\\keras\\src\\layers\\core\\dense.py:87: UserWarning: Do not pass an `input_shape`/`input_dim` argument to a layer. When using Sequential models, prefer using an `Input(shape)` object as the first layer in the model instead.\n",
            "  super().__init__(activity_regularizer=activity_regularizer, **kwargs)\n"
          ]
        }
      ],
      "source": [
        "#------------------------------------------------------------------------\n",
        "# 4. Configuración de los parámetros del modelo:\n",
        "#------------------------------------------------------------------------\n",
        "#     El modelo elegido es el más sencillo: Perceptron\n",
        "#       salida = peso  * X  + bias\n",
        "#       salida = peso1 * X1 + peso2 * X2 + bias\n",
        "#-------------------------------------------------------------------------------\n",
        "modelo = tf.keras.Sequential()\n",
        "modelo.add( Dense( units = 1, input_shape = [ 1 ] ) )   # Capa de entrada con 1 neurona\n"
      ]
    },
    {
      "cell_type": "markdown",
      "metadata": {
        "id": "U49UjasEpt9d"
      },
      "source": [
        "# **5. Compilación del modelo:** compile( optimizer, loss, metrics )\n",
        "---"
      ]
    },
    {
      "cell_type": "code",
      "execution_count": 5,
      "metadata": {
        "id": "3SpViW0KpuEV"
      },
      "outputs": [],
      "source": [
        "#------------------------------------------------------------------------\n",
        "# 5. Compilación del modelo\n",
        "#------------------------------------------------------------------------\n",
        "#     optimizer: algoritmo de optimización con el que se entrenará el modelo.\n",
        "#     loss: función de pérdida que se minimizará durante el entrenamiento\n",
        "#     metrics: métricas que monitorean el entrenamiento y la evaluación del modelo\n",
        "#             - accuracy  métrica de clasificación que mide la fracción de muestras correctamente clasificadas\n",
        "#             - loss      medida de cuánto difieren las predicciones de los valores reales.\n",
        "#-------------------------------------------------------------------------------\n",
        "modelo.compile(\n",
        "    optimizer=tf.keras.optimizers.Adam(0.1),    # Tasa de aprendizaje\n",
        "    loss='mean_squared_error',                  # Función de pérdida para regresión\n",
        "    metrics=['mean_squared_error']              # Métrica para evaluar durante el entrenamiento\n",
        ")\n"
      ]
    },
    {
      "cell_type": "markdown",
      "metadata": {
        "id": "Gd7hu8nvpuMe"
      },
      "source": [
        "# **6. Entrenamiento del modelo**\n",
        "---"
      ]
    },
    {
      "cell_type": "code",
      "execution_count": null,
      "metadata": {
        "id": "cB5q8F2wpuTV"
      },
      "outputs": [
        {
          "name": "stdout",
          "output_type": "stream",
          "text": [
            "Comenzamos el entrenamiento ...\n",
            "Iteración 1 - Pérdida: 449.3211975097656\n",
            "Iteración 2 - Pérdida: 126.78400421142578\n",
            "Iteración 3 - Pérdida: 25.982349395751953\n",
            "Iteración 4 - Pérdida: 3.753626823425293\n",
            "Iteración 5 - Pérdida: 0.3702174127101898\n",
            "Iteración 6 - Pérdida: 0.024746423587203026\n",
            "Iteración 7 - Pérdida: 0.0011104689911007881\n",
            "Modelo ya entrenado ...\n",
            "Totalidad de elementos 88\n"
          ]
        }
      ],
      "source": [
        "#------------------------------------------------------------------------\n",
        "# 6. Entrenamiento del modelo\n",
        "#------------------------------------------------------------------------\n",
        "#     Se utiliza la función fit sobre el modelo, especificando:\n",
        "#       - Datos de entrada: 'celsius'\n",
        "#       - Datos de salida esperados: 'fahrenheit'\n",
        "#       - Número de interaciones: 'epochs'\n",
        "#       - Si muestra evolución por pantalla: 'verbose'\n",
        "#-------------------------------------------------------------------------------\n",
        "print(\"Comenzamos el entrenamiento ...\")\n",
        "ACIERTOS = 0.75   # 75% de aciertos\n",
        "INTENTOS = 0\n",
        "\n",
        "while True:\n",
        "    historial = modelo.fit(CELSIUS,\n",
        "                           FAHRENHEIT,\n",
        "                           epochs=50,\n",
        "                           verbose=False)\n",
        "    INTENTOS = INTENTOS + 1\n",
        "    # Obtener la precisión del último registro en el historial de entrenamiento\n",
        "    perdida = historial.history['loss'][-1]\n",
        "    #precision = historial.history['accuracy'][0]\n",
        "\n",
        "    print(f\"Iteración {INTENTOS} - Pérdida: {perdida}\")\n",
        "\n",
        "    if perdida < 0.01:  # Criterio de parada\n",
        "        break\n",
        "\n",
        "\n",
        "print(\"Modelo ya entrenado ....\" )\n",
        "\n",
        "print( f\"Totalidad de elementos {len(CELSIUS)}\" )\n"
      ]
    },
    {
      "cell_type": "markdown",
      "metadata": {
        "id": "CozYKFNYpube"
      },
      "source": [
        "# **7. Evaluación del modelo**\n",
        "---"
      ]
    },
    {
      "cell_type": "code",
      "execution_count": 7,
      "metadata": {
        "id": "splixv8OpukO"
      },
      "outputs": [
        {
          "name": "stdout",
          "output_type": "stream",
          "text": [
            "Resultados de la evaluación:\n",
            "----------------------------\n",
            "Pérdida: 0.11%\n",
            "Precisión: 0.11%\n"
          ]
        }
      ],
      "source": [
        "#------------------------------------------------------------------------\n",
        "# 7. Evaluación del modelo\n",
        "#------------------------------------------------------------------------\n",
        "evaluacion = modelo.evaluate( CELSIUS, FAHRENHEIT, verbose = 0 )\n",
        "print( \"Resultados de la evaluación:\" )\n",
        "print( \"----------------------------\" )\n",
        "print( f\"Pérdida: {evaluacion[ 0 ]   * 100:.2f}%\" )\n",
        "print( f\"Precisión: {evaluacion[ 1 ] * 100:.2f}%\" )"
      ]
    },
    {
      "cell_type": "markdown",
      "metadata": {
        "id": "0Z3IRmbUpusm"
      },
      "source": [
        "# **8. Predicción o inferencia del modelo**\n",
        "---"
      ]
    },
    {
      "cell_type": "code",
      "execution_count": 8,
      "metadata": {
        "id": "u4A-eMPlpu0N"
      },
      "outputs": [
        {
          "name": "stdout",
          "output_type": "stream",
          "text": [
            "\u001b[1m3/3\u001b[0m \u001b[32m━━━━━━━━━━━━━━━━━━━━\u001b[0m\u001b[37m\u001b[0m \u001b[1m0s\u001b[0m 14ms/step\n"
          ]
        },
        {
          "data": {
            "text/plain": [
              "<matplotlib.legend.Legend at 0x20b2c243560>"
            ]
          },
          "execution_count": 8,
          "metadata": {},
          "output_type": "execute_result"
        },
        {
          "data": {
            "image/png": "[encoded data removed]",
            "text/plain": [
              "<Figure size 640x480 with 1 Axes>"
            ]
          },
          "metadata": {},
          "output_type": "display_data"
        }
      ],
      "source": [
        "#------------------------------------------------------------------------\n",
        "# 8. Predicción o inferencia\n",
        "#------------------------------------------------------------------------\n",
        "# Generar predicciones\n",
        "predicciones = modelo.predict( CELSIUS )\n",
        "\n",
        "# Gráfico de dispersión de datos reales\n",
        "plt.scatter( CELSIUS, FAHRENHEIT, color='red', label = 'Datos reales')\n",
        "\n",
        "# Línea de predicción\n",
        "plt.plot( CELSIUS, predicciones, color='blue', label='Predicciones')\n",
        "\n",
        "# Etiquetas y título\n",
        "plt.xlabel( 'Celsius' )\n",
        "plt.ylabel( 'Fahrenheit' )\n",
        "plt.title(  'Datos reales vs Predicciones' )\n",
        "\n",
        "# Leyenda\n",
        "plt.legend()"
      ]
    },
    {
      "cell_type": "markdown",
      "metadata": {
        "id": "-vc3SOPzpu-e"
      },
      "source": []
    },
    {
      "cell_type": "code",
      "execution_count": null,
      "metadata": {
        "id": "WJS728DSpvFY"
      },
      "outputs": [],
      "source": []
    },
    {
      "cell_type": "markdown",
      "metadata": {
        "id": "zoJ5M4QqpvMO"
      },
      "source": []
    },
    {
      "cell_type": "code",
      "execution_count": null,
      "metadata": {
        "id": "9l7-gS0qpvSl"
      },
      "outputs": [
        {
          "name": "stdout",
          "output_type": "stream",
          "text": [
            "Comenzamos el entrenamiento ...\n",
            "Iteración 1 - Pérdida: 421.702392578125\n",
            "Iteración 2 - Pérdida: 23.53746795654297\n",
            "Iteración 3 - Pérdida: 2.073094606399536\n",
            "Iteración 4 - Pérdida: 1.945850133895874\n",
            "Iteración 5 - Pérdida: 2.9532876014709473\n",
            "Iteración 6 - Pérdida: 2.803654432296753\n",
            "Iteración 7 - Pérdida: 2.350996494293213\n",
            "Iteración 8 - Pérdida: 2.2196128368377686\n",
            "Iteración 9 - Pérdida: 3.0958120822906494\n",
            "Iteración 10 - Pérdida: 7.694978713989258\n",
            "Iteración 11 - Pérdida: 4.0764265060424805\n",
            "Iteración 12 - Pérdida: 10.265653610229492\n",
            "Iteración 13 - Pérdida: 0.34793034195899963\n",
            "Iteración 14 - Pérdida: 3.6310508251190186\n",
            "Iteración 15 - Pérdida: 214.51922607421875\n",
            "Iteración 16 - Pérdida: 25.935068130493164\n",
            "Iteración 17 - Pérdida: 0.43640032410621643\n",
            "Iteración 18 - Pérdida: 730.0106201171875\n",
            "Iteración 19 - Pérdida: 1.539318561553955\n",
            "Iteración 20 - Pérdida: 11.552545547485352\n",
            "Iteración 21 - Pérdida: 9.675171852111816\n",
            "Iteración 22 - Pérdida: 7.758430004119873\n",
            "Iteración 23 - Pérdida: 3.660778045654297\n",
            "Iteración 24 - Pérdida: 64.41278839111328\n",
            "Iteración 25 - Pérdida: 7.601934909820557\n",
            "Iteración 26 - Pérdida: 3.973221778869629\n",
            "Iteración 27 - Pérdida: 1.624294638633728\n",
            "Iteración 28 - Pérdida: 22.0977840423584\n",
            "Iteración 29 - Pérdida: 1.9745122194290161\n",
            "Iteración 30 - Pérdida: 0.035543546080589294\n",
            "Iteración 31 - Pérdida: 59.559539794921875\n",
            "Iteración 32 - Pérdida: 0.5451253652572632\n",
            "Iteración 33 - Pérdida: 3.7648167610168457\n",
            "Iteración 34 - Pérdida: 0.8536524772644043\n",
            "Iteración 35 - Pérdida: 0.505988597869873\n",
            "Iteración 36 - Pérdida: 0.32273730635643005\n",
            "Iteración 37 - Pérdida: 2.9476518630981445\n",
            "Iteración 38 - Pérdida: 114.87935638427734\n",
            "Iteración 39 - Pérdida: 7.9397993087768555\n",
            "Iteración 40 - Pérdida: 3.293132781982422\n"
          ]
        }
      ],
      "source": [
        "#-----------------------------------------------------------------------------------------------------\n",
        "# 1.  Instalación de las bibliotecas necesarias\n",
        "#-----------------------------------------------------------------------------------------------------\n",
        "import tensorflow as tf\n",
        "import numpy as np\n",
        "import random\n",
        "import matplotlib.pyplot as plt\n",
        "\n",
        "from keras.layers import Dense\n",
        "\n",
        "#------------------------------------------------------------------------\n",
        "# 2. Preparación de los datos\n",
        "#------------------------------------------------------------------------\n",
        "# 2.1. Creación de dos funciones\n",
        "#-------------------------------------------------------------------------------\n",
        "def celsiusFahrenheit(celsius):\n",
        "    fahrenheit = ((celsius * 1.8) + 32)\n",
        "    return fahrenheit\n",
        "\n",
        "def FahrenheitError(fahrenheit):\n",
        "    fahrenheit = fahrenheit * (1 + ( random.random() - random.random() ) * 0.25 )\n",
        "    return fahrenheit\n",
        "\n",
        "#-------------------------------------------------------------------------------\n",
        "# 2.2. Generación de dos tablas: una para grados Celsius y otra para Fahrenheit\n",
        "#      La lista Celsius es la de entrada de datos y la Fahrenheit la de salida\n",
        "#-------------------------------------------------------------------------------\n",
        "CELSIUS = np.random.randint( -150, 150, size = random.randint( 20, 1000 ) )\n",
        "#FAHRENHEIT = celsiusFahrenheit( CELSIUS )\n",
        "FAHRENHEIT = FahrenheitError( celsiusFahrenheit( CELSIUS ) )\n",
        "\n",
        "#------------------------------------------------------------------------\n",
        "# 3. Elección del modelo\n",
        "#------------------------------------------------------------------------\n",
        "modelo = tf.keras.Sequential()\n",
        "\n",
        "#------------------------------------------------------------------------\n",
        "# 4. Configuración de los parámetros del modelo:\n",
        "#------------------------------------------------------------------------\n",
        "#     El modelo elegido es el más sencillo: Perceptron\n",
        "#       salida = peso  * X  + bias\n",
        "#       salida = peso1 * X1 + peso2 * X2 + bias\n",
        "#-------------------------------------------------------------------------------\n",
        "\n",
        "#modelo.add( Dense( units = 1, input_shape = [ 1 ] ) )   # Capa de entrada con 1 neurona\n",
        "\n",
        "# Primera capa oculta (entrada con una neurona)\n",
        "modelo.add(Dense(units=10, input_shape=[1], activation='relu'))  \n",
        "\n",
        "# Segunda capa oculta con 8 neuronas\n",
        "modelo.add(Dense(units=8, activation='relu'))  \n",
        "\n",
        "# Tercera capa oculta con 4 neuronas\n",
        "modelo.add(Dense(units=4, activation='relu'))  \n",
        "\n",
        "# Capa de salida con 1 neurona (porque queremos una sola predicción)\n",
        "modelo.add(Dense(units=1))  \n",
        "\n",
        "\n",
        "\n",
        "#------------------------------------------------------------------------\n",
        "# 5. Compilación del modelo\n",
        "#------------------------------------------------------------------------\n",
        "#     optimizer: algoritmo de optimización con el que se entrenará el modelo.\n",
        "#     loss: función de pérdida que se minimizará durante el entrenamiento\n",
        "#     metrics: métricas que monitorean el entrenamiento y la evaluación del modelo\n",
        "#       - MÉTRICAS DE CLASIFICACIÓN\n",
        "#             - accuracy  métrica de clasificación que mide la fracción de muestras correctamente clasificadas\n",
        "#             - precision\n",
        "#             - recall\n",
        "#\n",
        "#       - MÉTRICAS DE REGRESIÓN\n",
        "#             - loss      medida de cuánto difieren las predicciones de los valores reales.\n",
        "#-------------------------------------------------------------------------------\n",
        "modelo.compile(\n",
        "    optimizer=tf.keras.optimizers.Adam(0.1),    # Tasa de aprendizaje\n",
        "    loss='mean_squared_error',                  # Función de pérdida para regresión\n",
        "    metrics=['mean_squared_error']              # Métrica para evaluar durante el entrenamiento\n",
        ")\n",
        "\n",
        "#------------------------------------------------------------------------\n",
        "# 6. Entrenamiento del modelo\n",
        "#------------------------------------------------------------------------\n",
        "#     Se utiliza la función fit sobre el modelo, especificando:\n",
        "#       - Datos de entrada: 'celsius'\n",
        "#       - Datos de salida esperados: 'fahrenheit'\n",
        "#       - Número de interaciones: 'epochs'\n",
        "#       - Si muestra evolución por pantalla: 'verbose'\n",
        "#-------------------------------------------------------------------------------\n",
        "print(\"Comenzamos el entrenamiento ...\")\n",
        "ACIERTOS = 0.90   # 90% de aciertos\n",
        "INTENTOS = 0\n",
        "\n",
        "while True:\n",
        "    historial = modelo.fit( CELSIUS, FAHRENHEIT, epochs = 50, verbose = False )\n",
        "    INTENTOS = INTENTOS + 1\n",
        "    perdida = historial.history[ 'loss' ][ -1 ]\n",
        "\n",
        "    print( f\"Iteración {INTENTOS} - Pérdida: {perdida}\" )\n",
        "    if perdida < ( 1 - ACIERTOS )/100:  # Criterio de parada\n",
        "        break\n",
        "\n",
        "\n",
        "print(\"Modelo ya entrenado ...\" )\n",
        "\n",
        "print( f\"Totalidad de elementos {len(CELSIUS)}\" )\n",
        "\n",
        "#------------------------------------------------------------------------\n",
        "# 7. Evaluación del modelo\n",
        "#------------------------------------------------------------------------\n",
        "evaluacion = modelo.evaluate( CELSIUS, FAHRENHEIT, verbose = 0 )\n",
        "print( \"\\nResultados de la evaluación:\" )\n",
        "print( \"----------------------------\" )\n",
        "print( f\"Pérdida: {evaluacion[ 0 ]   * 100:.2f}%\" )\n",
        "print( f\"Precisión: {evaluacion[ 1 ] * 100:.2f}%\" )\n",
        "\n",
        "#------------------------------------------------------------------------\n",
        "# 8. Predicción o inferencia\n",
        "#------------------------------------------------------------------------\n",
        "# Generar predicciones\n",
        "predicciones = modelo.predict( CELSIUS, verbose = False )\n",
        "\n",
        "#------------------------------------------------------------------------\n",
        "# Predicción gráfica\n",
        "#------------------------------------------------------------------------\n",
        "# Gráfico de dispersión de datos reales\n",
        "plt.scatter( CELSIUS, FAHRENHEIT, color='red', label = 'Datos reales')\n",
        "\n",
        "# Línea de predicción\n",
        "plt.plot( CELSIUS, predicciones, color = 'blue', label = 'Predicciones' )\n",
        "\n",
        "# Etiquetas y título\n",
        "plt.xlabel( 'Celsius' )\n",
        "plt.ylabel( 'Fahrenheit' )\n",
        "plt.title(  'Datos reales vs Predicciones' )\n",
        "\n",
        "# Leyenda\n",
        "plt.legend()\n",
        "plt.show()\n",
        "\n",
        "#------------------------------------------------------------------------\n",
        "# Fórmula asociada\n",
        "#------------------------------------------------------------------------\n",
        "capa = modelo.layers[0]\n",
        "print( f\"Fahrenheit = Celsius * {capa.get_weights()[0][0][0]:.4f} + {capa.get_weights()[1][0]:.4f}\" )\n",
        "\n",
        "\n",
        "#------------------------------------------------------------------------\n",
        "# Predicción con un valor\n",
        "#------------------------------------------------------------------------\n",
        "print()\n",
        "print(\"Hagamos una predicción\")\n",
        "\n",
        "celsiusPrueba = random.randint(-150, 150)\n",
        "resultado = modelo.predict(np.array([celsiusPrueba]), verbose=False)\n",
        "print(f\"{celsiusPrueba}ºC son {resultado[0][0]:.4f} ºF, frente a los reales {celsiusFahrenheit(celsiusPrueba):.4f} ºF\")\n"
      ]
    }
  ],
  "metadata": {
    "colab": {
      "provenance": []
    },
    "kernelspec": {
      "display_name": "Python 3",
      "name": "python3"
    },
    "language_info": {
      "codemirror_mode": {
        "name": "ipython",
        "version": 3
      },
      "file_extension": ".py",
      "mimetype": "text/x-python",
      "name": "python",
      "nbconvert_exporter": "python",
      "pygments_lexer": "ipython3",
      "version": "3.12.9"
    }
  },
  "nbformat": 4,
  "nbformat_minor": 0
}
