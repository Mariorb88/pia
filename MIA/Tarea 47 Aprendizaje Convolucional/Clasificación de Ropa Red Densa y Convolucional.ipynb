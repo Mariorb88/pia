{
  "cells": [
    {
      "cell_type": "code",
      "execution_count": null,
      "metadata": {
        "id": "AOwSmuikM2kG"
      },
      "outputs": [],
      "source": [
        "import tensorflow as tf\n",
        "import tensorflow_datasets as tfds"
      ]
    },
    {
      "cell_type": "code",
      "execution_count": null,
      "metadata": {
        "id": "hzkGVPqnSvRE"
      },
      "outputs": [],
      "source": [
        "#--------------------------------------------------------------------------------\n",
        "# Descargamos el conjunto de datos de Fashion MNIST de Zalando\n",
        "#--------------------------------------------------------------------------------\n",
        "datos, metadatos = tfds.load('fashion_mnist', as_supervised=True, with_info=True)"
      ]
    },
    {
      "cell_type": "code",
      "execution_count": null,
      "metadata": {
        "id": "qmIDi8K-TCDy"
      },
      "outputs": [],
      "source": [
        "#--------------------------------------------------------------------------------\n",
        "# Mostramos los metadatos para ver que trae el conjunto de datos\n",
        "#--------------------------------------------------------------------------------\n",
        "metadatos"
      ]
    },
    {
      "cell_type": "code",
      "execution_count": null,
      "metadata": {
        "id": "KuQPdKw9TIdP"
      },
      "outputs": [],
      "source": [
        "#--------------------------------------------------------------------------------\n",
        "# Obtenemos en variables separadas los datos de entrenamiento (60k) y pruebas (10k)\n",
        "#--------------------------------------------------------------------------------\n",
        "datos_entrenamiento, datos_pruebas = datos['train'], datos['test']"
      ]
    },
    {
      "cell_type": "code",
      "execution_count": null,
      "metadata": {
        "id": "wxBaYWyHTX4_"
      },
      "outputs": [],
      "source": [
        "#--------------------------------------------------------------------------------\n",
        "# Etiquetas de las 10 categorias posibles\n",
        "#--------------------------------------------------------------------------------\n",
        "nombres_clases = metadatos.features['label'].names\n",
        "nombres_clases"
      ]
    },
    {
      "cell_type": "code",
      "execution_count": null,
      "metadata": {
        "id": "PtY2yoLZYfU2"
      },
      "outputs": [],
      "source": [
        "#--------------------------------------------------------------------------------\n",
        "# Renombramos los tipos de datos\n",
        "#--------------------------------------------------------------------------------\n",
        "nombres_clases = [ 'Camiseta/top', 'Pantalón', 'Jersey', 'Vestido', 'Abrigo', 'Sandalia', 'Camisa', 'Zapailla de deporte', 'Bolsa', 'Botín' ]\n",
        "nombres_clases"
      ]
    },
    {
      "cell_type": "code",
      "execution_count": null,
      "metadata": {
        "id": "fI7XnPjHTiYR"
      },
      "outputs": [],
      "source": [
        "#--------------------------------------------------------------------------------\n",
        "# Funcion de normalizacion para los datos (Pasar de 0-255 a 0-1)\n",
        "# Hace que la red aprenda mejor y mas rapido\n",
        "#--------------------------------------------------------------------------------\n",
        "def normalizar(imagenes, etiquetas):\n",
        "  imagenes = tf.cast(imagenes, tf.float32)\n",
        "  imagenes /= 255 #Aqui lo pasa de 0-255 a 0-1\n",
        "  return imagenes, etiquetas\n",
        "\n",
        "#--------------------------------------------------------------------------------\n",
        "# Normalizamos los datos de entrenamiento y pruebas con la funcion que hicimos\n",
        "#--------------------------------------------------------------------------------\n",
        "datos_entrenamiento = datos_entrenamiento.map(normalizar)\n",
        "datos_pruebas = datos_pruebas.map(normalizar)\n",
        "\n",
        "#--------------------------------------------------------------------------------\n",
        "# Agregamos a cache (usar memoria en lugar de disco, entrenamiento mas rapido)\n",
        "#--------------------------------------------------------------------------------\n",
        "datos_entrenamiento = datos_entrenamiento.cache()\n",
        "datos_pruebas = datos_pruebas.cache()"
      ]
    },
    {
      "cell_type": "code",
      "execution_count": null,
      "metadata": {
        "colab": {
          "base_uri": "https://localhost:8080/",
          "height": 435
        },
        "id": "ZmTRardXT_KU",
        "outputId": "162e2061-96fe-486d-dd39-9f53838ae009"
      },
      "outputs": [],
      "source": [
        "#--------------------------------------------------------------------------------\n",
        "# Mostramos una imagen de los datos de pruebas, de momento mostremos la primera\n",
        "#--------------------------------------------------------------------------------\n",
        "for imagen, etiqueta in datos_entrenamiento.take(1):\n",
        "  break\n",
        "imagen = imagen.numpy().reshape((28,28)) #Redimensionar, cosas de tensores, lo veremos despues\n",
        "\n",
        "import matplotlib.pyplot as plt\n",
        "\n",
        "#--------------------------------------------------------------------------------\n",
        "# Mostramos una imagen\n",
        "#--------------------------------------------------------------------------------\n",
        "plt.figure()\n",
        "plt.imshow(imagen, cmap=plt.cm.binary)\n",
        "plt.colorbar()\n",
        "plt.grid(False)\n",
        "plt.show()"
      ]
    },
    {
      "cell_type": "code",
      "execution_count": null,
      "metadata": {
        "colab": {
          "base_uri": "https://localhost:8080/",
          "height": 826
        },
        "id": "AC31ZBTnUdft",
        "outputId": "7a3c264b-05b1-44b3-d15c-3efa077be3af"
      },
      "outputs": [],
      "source": [
        "#--------------------------------------------------------------------------------\n",
        "# Dibujamos ahora más\n",
        "#--------------------------------------------------------------------------------\n",
        "plt.figure(figsize=(10,10))\n",
        "for i, (imagen, etiqueta) in enumerate(datos_entrenamiento.take(25)):\n",
        "  imagen = imagen.numpy().reshape((28,28))\n",
        "  plt.subplot(5,5,i+1)\n",
        "  plt.xticks([])\n",
        "  plt.yticks([])\n",
        "  plt.grid(False)\n",
        "  plt.imshow(imagen, cmap=plt.cm.binary)\n",
        "  plt.xlabel(nombres_clases[etiqueta])\n",
        "plt.show()"
      ]
    },
    {
      "cell_type": "code",
      "execution_count": null,
      "metadata": {
        "id": "4Qgu40h_UyYZ"
      },
      "outputs": [],
      "source": [
        "#--------------------------------------------------------------------------------\n",
        "# Crear el modelo Denso\n",
        "#--------------------------------------------------------------------------------\n",
        "modeloDenso = tf.keras.Sequential([\n",
        "  tf.keras.layers.Flatten( input_shape = (28,28,1)), #1 - blanco y negro\n",
        "  tf.keras.layers.Dense( 50, activation = 'relu' ),\n",
        "  tf.keras.layers.Dense( 50, activation = 'relu' ),\n",
        "  tf.keras.layers.Dense( 10, activation = 'softmax' ) #Para redes de clasificacion\n",
        "])\n",
        "\n",
        "#--------------------------------------------------------------------------------\n",
        "# Creamos el modelo Convolucional\n",
        "#--------------------------------------------------------------------------------\n",
        "modeloConvolucional = tf.keras.Sequential([\n",
        "  tf.keras.layers.Conv2D( 32, ( 3, 3 ), input_shape = ( 28, 28, 1 ), activation = 'relu' ),\n",
        "  tf.keras.layers.MaxPooling2D( 2, 2 ),             # 2,2 es el tamano de la matriz\n",
        "  tf.keras.layers.Dropout( 0.25 ),\n",
        "\n",
        "  tf.keras.layers.Conv2D( 64, ( 3, 3 ), activation = 'relu' ),\n",
        "  tf.keras.layers.MaxPooling2D( 2, 2 ),             # 2,2 es el tamano de la matriz\n",
        "  tf.keras.layers.Dropout( 0.25 ),\n",
        "\n",
        "  tf.keras.layers.Flatten(),      # Aplanamiento\n",
        "  tf.keras.layers.Dense( 50, activation = 'relu' ),\n",
        "  tf.keras.layers.Dense( 10, activation = 'softmax' )\n",
        "])"
      ]
    },
    {
      "cell_type": "code",
      "execution_count": null,
      "metadata": {
        "id": "tkRSnyokVOna"
      },
      "outputs": [],
      "source": [
        "#--------------------------------------------------------------------------------\n",
        "# Compilamos los modelos Denso y Convolucional\n",
        "#--------------------------------------------------------------------------------\n",
        "modeloDenso.compile(\n",
        "    optimizer='adam',\n",
        "    loss=tf.keras.losses.SparseCategoricalCrossentropy(),\n",
        "    metrics=['accuracy']\n",
        ")\n",
        "\n",
        "modeloConvolucional.compile(\n",
        "    optimizer='adam',\n",
        "    loss=tf.keras.losses.SparseCategoricalCrossentropy(),\n",
        "    metrics=['accuracy']\n",
        ")"
      ]
    },
    {
      "cell_type": "code",
      "execution_count": null,
      "metadata": {
        "colab": {
          "base_uri": "https://localhost:8080/"
        },
        "id": "j1gk7K6yVlvY",
        "outputId": "09af4fe6-97fb-4c71-b7ca-281b1da99b00"
      },
      "outputs": [],
      "source": [
        "#--------------------------------------------------------------------------------\n",
        "# Los numeros de datos en entrenamiento y pruebas (60k y 10k)\n",
        "#--------------------------------------------------------------------------------\n",
        "num_ej_entrenamiento = metadatos.splits[\"train\"].num_examples\n",
        "num_ej_pruebas = metadatos.splits[\"test\"].num_examples\n",
        "print(num_ej_entrenamiento)\n",
        "print(num_ej_pruebas)"
      ]
    },
    {
      "cell_type": "code",
      "execution_count": null,
      "metadata": {
        "id": "teT6nUy_Vddy"
      },
      "outputs": [],
      "source": [
        "#--------------------------------------------------------------------------------\n",
        "# El trabajo por lotes permite que entrenamientos con gran cantidad de datos se haga de manera mas eficiente\n",
        "#--------------------------------------------------------------------------------\n",
        "TAMANO_LOTE = 32 #8  #32\n",
        "\n",
        "#--------------------------------------------------------------------------------\n",
        "# Shuffle y repeat hacen que los datos esten mezclados de manera aleatoria para que la red\n",
        "# no se vaya a aprender el orden de las cosas\n",
        "#--------------------------------------------------------------------------------\n",
        "datos_entrenamiento = datos_entrenamiento.repeat().shuffle(num_ej_entrenamiento).batch(TAMANO_LOTE)\n",
        "datos_pruebas = datos_pruebas.batch(TAMANO_LOTE)"
      ]
    },
    {
      "cell_type": "code",
      "execution_count": null,
      "metadata": {
        "colab": {
          "base_uri": "https://localhost:8080/"
        },
        "id": "1E0QFpqyV3u6",
        "outputId": "e5d2fe13-284a-438f-eccb-b4d35ebbb5af"
      },
      "outputs": [],
      "source": [
        "import math\n",
        "ACIERTO = 0.95\n",
        "\n",
        "print( 'Entrenando la red Densa ...' )\n",
        "#--------------------------------------------------------------------------------\n",
        "# Entrenamos ahora el modelo Denso\n",
        "#--------------------------------------------------------------------------------\n",
        "historial = modeloDenso.fit(datos_entrenamiento, epochs = 1, steps_per_epoch = math.ceil(num_ej_entrenamiento/TAMANO_LOTE))\n",
        "while( historial.history[ 'accuracy' ][0] < ACIERTO ):\n",
        "    historial = modeloDenso.fit(datos_entrenamiento, epochs = 1, steps_per_epoch = math.ceil(num_ej_entrenamiento/TAMANO_LOTE))\n",
        "print( 'Fin del entrenamiento de la red Densa.' )\n",
        "\n",
        "print( 'Entrenando la red Convolucional ...' )\n",
        "#--------------------------------------------------------------------------------\n",
        "# Entrenamos ahora el modelo Convolucional\n",
        "#--------------------------------------------------------------------------------\n",
        "historial = modeloConvolucional.fit(datos_entrenamiento, epochs = 1, steps_per_epoch = math.ceil(num_ej_entrenamiento/TAMANO_LOTE))\n",
        "while( historial.history[ 'accuracy' ][0] < ACIERTO ):\n",
        "    historial = modeloConvolucional.fit(datos_entrenamiento, epochs = 1, steps_per_epoch = math.ceil(num_ej_entrenamiento/TAMANO_LOTE))\n",
        "print( 'Fin del entrenamiento de la red Convolucional.' )"
      ]
    },
    {
      "cell_type": "code",
      "execution_count": null,
      "metadata": {
        "id": "V4q7-hKbWb4V"
      },
      "outputs": [],
      "source": [
        "#--------------------------------------------------------------------------------\n",
        "# Definimos las funciones asociadas a mostrar las predicciones con color azul (correcta) o roja (errónea)\n",
        "#--------------------------------------------------------------------------------\n",
        "import numpy as np\n",
        "\n",
        "for imagenes_prueba, etiquetas_prueba in datos_pruebas.take(10):\n",
        "  imagenes_prueba = imagenes_prueba.numpy()\n",
        "  etiquetas_prueba = etiquetas_prueba.numpy()\n",
        "  prediccionesDenso         = modeloDenso.predict(         imagenes_prueba )\n",
        "  prediccionesConvolucional = modeloConvolucional.predict( imagenes_prueba )\n",
        "\n",
        "def graficar_imagen(i, arr_predicciones, etiquetas_reales, imagenes):\n",
        "  arr_predicciones, etiqueta_real, img = arr_predicciones[i], etiquetas_reales[i], imagenes[i]\n",
        "  plt.grid(False)\n",
        "  plt.xticks([])\n",
        "  plt.yticks([])\n",
        "\n",
        "  plt.imshow(img[...,0], cmap=plt.cm.binary)\n",
        "\n",
        "  etiqueta_prediccion = np.argmax(arr_predicciones)\n",
        "  if etiqueta_prediccion == etiqueta_real:\n",
        "    color = 'blue'\n",
        "  else:\n",
        "    color = 'red'\n",
        "\n",
        "  plt.xlabel(\"{} {:2.0f}% ({})\".format(nombres_clases[etiqueta_prediccion],\n",
        "                                100*np.max(arr_predicciones),\n",
        "                                nombres_clases[etiqueta_real]),\n",
        "                                color=color)\n",
        "\n",
        "def graficar_valor_arreglo(i, arr_predicciones, etiqueta_real):\n",
        "  arr_predicciones, etiqueta_real = arr_predicciones[i], etiqueta_real[i]\n",
        "  plt.grid(False)\n",
        "  plt.xticks([])\n",
        "  plt.yticks([])\n",
        "  grafica = plt.bar(range(10), arr_predicciones, color=\"#777777\")\n",
        "  plt.ylim([0, 1])\n",
        "  etiqueta_prediccion = np.argmax(arr_predicciones)\n",
        "\n",
        "  grafica[etiqueta_prediccion].set_color('red')\n",
        "  grafica[etiqueta_real].set_color('blue')"
      ]
    },
    {
      "cell_type": "code",
      "execution_count": null,
      "metadata": {
        "colab": {
          "base_uri": "https://localhost:8080/",
          "height": 663
        },
        "id": "06qA9KJ-k1R-",
        "outputId": "c7819eee-5268-4e08-f1df-c5b36d71a282"
      },
      "outputs": [],
      "source": [
        "#--------------------------------------------------------------------------------\n",
        "# Mostramos ahora las predicciones con el modelo Denso\n",
        "#--------------------------------------------------------------------------------\n",
        "filas = 5\n",
        "columnas = 5\n",
        "num_imagenes = filas*columnas\n",
        "plt.figure(figsize=(2*2*columnas, 2*filas))\n",
        "for i in range(num_imagenes):\n",
        "  plt.subplot(filas, 2*columnas, 2*i+1)\n",
        "  graficar_imagen(i, prediccionesDenso, etiquetas_prueba, imagenes_prueba)\n",
        "  plt.subplot(filas, 2*columnas, 2*i+2)\n",
        "  graficar_valor_arreglo(i, prediccionesDenso, etiquetas_prueba)"
      ]
    },
    {
      "cell_type": "code",
      "execution_count": null,
      "metadata": {
        "colab": {
          "base_uri": "https://localhost:8080/",
          "height": 663
        },
        "id": "QKp4zdLWhM_Y",
        "outputId": "fd358970-14fb-41e0-d5fe-ec6bca475fe3"
      },
      "outputs": [],
      "source": [
        "#--------------------------------------------------------------------------------\n",
        "# Mostramos ahora las predicciones con el modelo Convolucional\n",
        "#--------------------------------------------------------------------------------\n",
        "filas = 5\n",
        "columnas = 5\n",
        "num_imagenes = filas*columnas\n",
        "plt.figure(figsize=(2*2*columnas, 2*filas))\n",
        "for i in range(num_imagenes):\n",
        "  plt.subplot(filas, 2*columnas, 2*i+1)\n",
        "  graficar_imagen(i, prediccionesConvolucional, etiquetas_prueba, imagenes_prueba)\n",
        "  plt.subplot(filas, 2*columnas, 2*i+2)\n",
        "  graficar_valor_arreglo(i, prediccionesConvolucional, etiquetas_prueba)"
      ]
    },
    {
      "cell_type": "code",
      "execution_count": null,
      "metadata": {
        "colab": {
          "base_uri": "https://localhost:8080/"
        },
        "id": "48ZC4GNiYSAH",
        "outputId": "bc86713c-e45a-4f8d-8ed1-fcdf74601847"
      },
      "outputs": [],
      "source": [
        "#--------------------------------------------------------------------------------\n",
        "# Probar una imagen suelta\n",
        "#--------------------------------------------------------------------------------\n",
        "imagen = imagenes_prueba[14] #AL ser la variable imagenes_prueba solo tiene lo que se le puso en el bloque anterior heheh\n",
        "imagen = np.array([imagen])\n",
        "prediccion = modeloDenso.predict(imagen)\n",
        "print( \"Prediccion: \" + nombres_clases[np.argmax(prediccion[0])])\n",
        "prediccion = modeloConvolucional.predict(imagen)\n",
        "print( \"Prediccion: \" + nombres_clases[np.argmax(prediccion[0])])\n"
      ]
    },
    {
      "cell_type": "code",
      "execution_count": null,
      "metadata": {
        "id": "UxgBjoTLZK3d"
      },
      "outputs": [],
      "source": [
        "#Exportacion del modelo a h5\n",
        "modeloDenso.save( \"modeloDenso.h5\" )\n",
        "modeloConvolucional.save()\n",
        "\n",
        "tf.saved_model.save(modeloDenso, \"modeloDenso_guardado\" )\n",
        "tf.saved_model.save(modeloConvolucional, \"modeloConvolucional_guardado\" )"
      ]
    },
    {
      "cell_type": "code",
      "execution_count": null,
      "metadata": {
        "id": "P1ayq2beZRFB"
      },
      "outputs": [],
      "source": [
        "#Instalar tensorflowjs para convertir el h5 a un modelo que pueda cargar tensorflowjs en un explorador\n",
        "!pip install tensorflowjs"
      ]
    },
    {
      "cell_type": "code",
      "execution_count": null,
      "metadata": {
        "colab": {
          "base_uri": "https://localhost:8080/"
        },
        "id": "V3hMCzRDZYAX",
        "outputId": "b417ef7c-60f0-4c7a-b506-c5484ba07199"
      },
      "outputs": [],
      "source": [
        "#Convertir el archivo h5 a formato de tensorflowjs\n",
        "!mkdir tfjs_target_dir\n",
        "!tensorflowjs_converter --input_format keras modelo_exportado.h5 tfjs_target_dir"
      ]
    },
    {
      "cell_type": "code",
      "execution_count": null,
      "metadata": {
        "colab": {
          "base_uri": "https://localhost:8080/"
        },
        "id": "0T_QNwOzZhWU",
        "outputId": "643d1570-7766-446a-b431-950c418ce85c"
      },
      "outputs": [],
      "source": [
        "#Veamos si si creo la carpeta\n",
        "!ls"
      ]
    },
    {
      "cell_type": "code",
      "execution_count": 24,
      "metadata": {
        "id": "PNlUEbRpZkgT"
      },
      "outputs": [],
      "source": [
        "#Veamos el contenido de la carpeta\n",
        "!ls tfjs_target_dir"
      ]
    },
    {
      "cell_type": "code",
      "execution_count": null,
      "metadata": {
        "colab": {
          "base_uri": "https://localhost:8080/"
        },
        "id": "Qibpnl75OcoE",
        "outputId": "d323f955-9f1f-4213-ff8d-c3abc27d91a5"
      },
      "outputs": [],
      "source": [
        "#modelo_cargado = tf.keras.models.load_model( 'modeloDenso.h5' )\n",
        "modelo_cargado = tf.keras.models.load_model( 'modeloConvolucional.h5' )\n",
        "\n",
        "#modelo_cargado = tf.saved_model.load( \"modeloDenso_guardado\" )\n",
        "#modelo_cargado = tf.saved_model.load( \"modeloConvolucional_guardado\" )\n",
        "modelo_cargado"
      ]
    },
    {
      "cell_type": "code",
      "execution_count": null,
      "metadata": {
        "colab": {
          "base_uri": "https://localhost:8080/",
          "height": 1000
        },
        "id": "WfL46Fw7RAN5",
        "outputId": "b4dc9c4c-f47d-4120-c134-9b751a9b94ae"
      },
      "outputs": [],
      "source": [
        "#Pintar una cuadricula con varias predicciones, y marcar si fue correcta (azul) o incorrecta (roja)\n",
        "import numpy as np\n",
        "\n",
        "for imagenes_prueba, etiquetas_prueba in datos_pruebas.take(20):\n",
        "  imagenes_prueba = imagenes_prueba.numpy()\n",
        "  etiquetas_prueba = etiquetas_prueba.numpy()\n",
        "  predicciones = modelo_cargado.predict(imagenes_prueba)\n",
        "\n",
        "def graficar_imagen(i, arr_predicciones, etiquetas_reales, imagenes):\n",
        "  arr_predicciones, etiqueta_real, img = arr_predicciones[i], etiquetas_reales[i], imagenes[i]\n",
        "  plt.grid(False)\n",
        "  plt.xticks([])\n",
        "  plt.yticks([])\n",
        "\n",
        "  plt.imshow(img[...,0], cmap=plt.cm.binary)\n",
        "\n",
        "  etiqueta_prediccion = np.argmax(arr_predicciones)\n",
        "  if etiqueta_prediccion == etiqueta_real:\n",
        "    color = 'blue'\n",
        "  else:\n",
        "    color = 'red'\n",
        "\n",
        "  plt.xlabel(\"{} {:2.0f}% ({})\".format(nombres_clases[etiqueta_prediccion],\n",
        "                                100*np.max(arr_predicciones),\n",
        "                                nombres_clases[etiqueta_real]),\n",
        "                                color=color)\n",
        "\n",
        "def graficar_valor_arreglo(i, arr_predicciones, etiqueta_real):\n",
        "  arr_predicciones, etiqueta_real = arr_predicciones[i], etiqueta_real[i]\n",
        "  plt.grid(False)\n",
        "  plt.xticks([])\n",
        "  plt.yticks([])\n",
        "  grafica = plt.bar(range(10), arr_predicciones, color=\"#777777\")\n",
        "  plt.ylim([0, 1])\n",
        "  etiqueta_prediccion = np.argmax(arr_predicciones)\n",
        "\n",
        "  grafica[etiqueta_prediccion].set_color('red')\n",
        "  grafica[etiqueta_real].set_color('blue')\n",
        "\n",
        "filas = 5\n",
        "columnas = 5\n",
        "num_imagenes = filas*columnas\n",
        "plt.figure(figsize=(2*2*columnas, 2*filas))\n",
        "for i in range(num_imagenes):\n",
        "  plt.subplot(filas, 2*columnas, 2*i+1)\n",
        "  graficar_imagen(i, predicciones, etiquetas_prueba, imagenes_prueba)\n",
        "  plt.subplot(filas, 2*columnas, 2*i+2)\n",
        "  graficar_valor_arreglo(i, predicciones, etiquetas_prueba)"
      ]
    }
  ],
  "metadata": {
    "colab": {
      "provenance": []
    },
    "kernelspec": {
      "display_name": "Python 3",
      "name": "python3"
    },
    "language_info": {
      "name": "python"
    }
  },
  "nbformat": 4,
  "nbformat_minor": 0
}
