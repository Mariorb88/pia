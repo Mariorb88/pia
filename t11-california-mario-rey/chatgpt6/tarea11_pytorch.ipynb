{
 "cells": [
  {
   "cell_type": "markdown",
   "id": "5daa7559",
   "metadata": {},
   "source": [
    "# Red Neuronal en PyTorch para California Housing"
   ]
  },
  {
   "cell_type": "markdown",
   "id": "40eb67b6",
   "metadata": {},
   "source": [
    "\n",
    "Este notebook implementa una red neuronal usando PyTorch para resolver un problema de regresión sobre el dataset de California Housing.\n",
    "Incluye:\n",
    "- Preprocesamiento avanzado con `preprocessing.py`\n",
    "- Escalado de la variable objetivo\n",
    "- Arquitectura profunda\n",
    "- Early stopping manual\n",
    "- Evaluación sobre test\n"
   ]
  },
  {
   "cell_type": "code",
   "execution_count": 2,
   "id": "bf7f91f6",
   "metadata": {},
   "outputs": [
    {
     "name": "stdout",
     "output_type": "stream",
     "text": [
      "Usando dispositivo: cpu\n"
     ]
    }
   ],
   "source": [
    "\n",
    "import pandas as pd\n",
    "import numpy as np\n",
    "import torch\n",
    "import torch.nn as nn\n",
    "import torch.optim as optim\n",
    "from sklearn.model_selection import train_test_split\n",
    "from sklearn.preprocessing import StandardScaler\n",
    "from sklearn.metrics import mean_squared_error\n",
    "from preprocessing import get_preprocessor\n",
    "\n",
    "device = torch.device(\"cuda\" if torch.cuda.is_available() else \"cpu\")\n",
    "print(\"Usando dispositivo:\", device)\n"
   ]
  },
  {
   "cell_type": "code",
   "execution_count": 3,
   "id": "b475799f",
   "metadata": {},
   "outputs": [],
   "source": [
    "\n",
    "housing = pd.read_csv(\"housing.csv\")\n",
    "X = housing.drop(\"median_house_value\", axis=1)\n",
    "y = housing[\"median_house_value\"].copy()\n",
    "\n",
    "X_train_full, X_test, y_train_full, y_test = train_test_split(X, y, test_size=0.2, random_state=42)\n",
    "X_train, X_valid, y_train, y_valid = train_test_split(X_train_full, y_train_full, test_size=0.2, random_state=42)\n"
   ]
  },
  {
   "cell_type": "code",
   "execution_count": 4,
   "id": "caa770aa",
   "metadata": {},
   "outputs": [],
   "source": [
    "\n",
    "y_scaler = StandardScaler()\n",
    "y_train_scaled = y_scaler.fit_transform(y_train.values.reshape(-1, 1)).astype(np.float32)\n",
    "y_valid_scaled = y_scaler.transform(y_valid.values.reshape(-1, 1)).astype(np.float32)\n",
    "y_test_scaled = y_scaler.transform(y_test.values.reshape(-1, 1)).astype(np.float32)\n"
   ]
  },
  {
   "cell_type": "code",
   "execution_count": 5,
   "id": "d59d1c46",
   "metadata": {},
   "outputs": [],
   "source": [
    "\n",
    "preprocessor = get_preprocessor(housing)\n",
    "X_train_prep = preprocessor.fit_transform(X_train).astype(np.float32)\n",
    "X_valid_prep = preprocessor.transform(X_valid).astype(np.float32)\n",
    "X_test_prep = preprocessor.transform(X_test).astype(np.float32)\n",
    "\n",
    "X_train_tensor = torch.tensor(X_train_prep).to(device)\n",
    "y_train_tensor = torch.tensor(y_train_scaled).to(device)\n",
    "X_valid_tensor = torch.tensor(X_valid_prep).to(device)\n",
    "y_valid_tensor = torch.tensor(y_valid_scaled).to(device)\n",
    "X_test_tensor = torch.tensor(X_test_prep).to(device)\n",
    "y_test_tensor = torch.tensor(y_test_scaled).to(device)\n"
   ]
  },
  {
   "cell_type": "code",
   "execution_count": 6,
   "id": "ad75d482",
   "metadata": {},
   "outputs": [],
   "source": [
    "\n",
    "class HousingNet(nn.Module):\n",
    "    def __init__(self, input_dim):\n",
    "        super(HousingNet, self).__init__()\n",
    "        self.model = nn.Sequential(\n",
    "            nn.Linear(input_dim, 512),\n",
    "            nn.ReLU(),\n",
    "            nn.Dropout(0.3),\n",
    "            nn.Linear(512, 256),\n",
    "            nn.ReLU(),\n",
    "            nn.Dropout(0.3),\n",
    "            nn.Linear(256, 64),\n",
    "            nn.ReLU(),\n",
    "            nn.Linear(64, 1)\n",
    "        )\n",
    "\n",
    "    def forward(self, x):\n",
    "        return self.model(x)\n",
    "\n",
    "model = HousingNet(X_train_prep.shape[1]).to(device)\n"
   ]
  },
  {
   "cell_type": "code",
   "execution_count": 7,
   "id": "962e3edf",
   "metadata": {},
   "outputs": [
    {
     "name": "stdout",
     "output_type": "stream",
     "text": [
      "Epoch 1, Val RMSE: 0.98\n",
      "Epoch 2, Val RMSE: 0.94\n",
      "Epoch 3, Val RMSE: 0.90\n",
      "Epoch 4, Val RMSE: 0.84\n",
      "Epoch 5, Val RMSE: 0.79\n",
      "Epoch 6, Val RMSE: 0.73\n",
      "Epoch 7, Val RMSE: 0.69\n",
      "Epoch 8, Val RMSE: 0.67\n",
      "Epoch 9, Val RMSE: 0.65\n",
      "Epoch 10, Val RMSE: 0.64\n",
      "Epoch 11, Val RMSE: 0.62\n",
      "Epoch 12, Val RMSE: 0.61\n",
      "Epoch 13, Val RMSE: 0.59\n",
      "Epoch 14, Val RMSE: 0.59\n",
      "Epoch 15, Val RMSE: 0.58\n",
      "Epoch 16, Val RMSE: 0.57\n",
      "Epoch 17, Val RMSE: 0.57\n",
      "Epoch 18, Val RMSE: 0.58\n",
      "Epoch 19, Val RMSE: 0.56\n",
      "Epoch 20, Val RMSE: 0.55\n",
      "Epoch 21, Val RMSE: 0.56\n",
      "Epoch 22, Val RMSE: 0.56\n",
      "Epoch 23, Val RMSE: 0.56\n",
      "Epoch 24, Val RMSE: 0.57\n",
      "Epoch 25, Val RMSE: 0.57\n",
      "Epoch 26, Val RMSE: 0.56\n",
      "Epoch 27, Val RMSE: 0.55\n",
      "Epoch 28, Val RMSE: 0.55\n",
      "Epoch 29, Val RMSE: 0.54\n",
      "Epoch 30, Val RMSE: 0.54\n",
      "Epoch 31, Val RMSE: 0.53\n",
      "Epoch 32, Val RMSE: 0.53\n",
      "Epoch 33, Val RMSE: 0.53\n",
      "Epoch 34, Val RMSE: 0.53\n",
      "Epoch 35, Val RMSE: 0.53\n",
      "Epoch 36, Val RMSE: 0.54\n",
      "Epoch 37, Val RMSE: 0.54\n",
      "Epoch 38, Val RMSE: 0.54\n",
      "Epoch 39, Val RMSE: 0.53\n",
      "Epoch 40, Val RMSE: 0.52\n",
      "Epoch 41, Val RMSE: 0.52\n",
      "Epoch 42, Val RMSE: 0.52\n",
      "Epoch 43, Val RMSE: 0.51\n",
      "Epoch 44, Val RMSE: 0.51\n",
      "Epoch 45, Val RMSE: 0.51\n",
      "Epoch 46, Val RMSE: 0.51\n",
      "Epoch 47, Val RMSE: 0.51\n",
      "Epoch 48, Val RMSE: 0.51\n",
      "Epoch 49, Val RMSE: 0.51\n",
      "Epoch 50, Val RMSE: 0.51\n",
      "Epoch 51, Val RMSE: 0.51\n",
      "Epoch 52, Val RMSE: 0.51\n",
      "Epoch 53, Val RMSE: 0.51\n",
      "Epoch 54, Val RMSE: 0.51\n",
      "Epoch 55, Val RMSE: 0.51\n",
      "Epoch 56, Val RMSE: 0.51\n",
      "Epoch 57, Val RMSE: 0.51\n",
      "Epoch 58, Val RMSE: 0.51\n",
      "Epoch 59, Val RMSE: 0.50\n",
      "Epoch 60, Val RMSE: 0.50\n",
      "Epoch 61, Val RMSE: 0.51\n",
      "Epoch 62, Val RMSE: 0.51\n",
      "Epoch 63, Val RMSE: 0.50\n",
      "Epoch 64, Val RMSE: 0.50\n",
      "Epoch 65, Val RMSE: 0.50\n",
      "Epoch 66, Val RMSE: 0.50\n",
      "Epoch 67, Val RMSE: 0.50\n",
      "Epoch 68, Val RMSE: 0.50\n",
      "Epoch 69, Val RMSE: 0.50\n",
      "Epoch 70, Val RMSE: 0.50\n",
      "Epoch 71, Val RMSE: 0.50\n",
      "Epoch 72, Val RMSE: 0.50\n",
      "Epoch 73, Val RMSE: 0.50\n",
      "Epoch 74, Val RMSE: 0.50\n",
      "Epoch 75, Val RMSE: 0.50\n",
      "Epoch 76, Val RMSE: 0.49\n",
      "Epoch 77, Val RMSE: 0.49\n",
      "Epoch 78, Val RMSE: 0.49\n",
      "Epoch 79, Val RMSE: 0.49\n",
      "Epoch 80, Val RMSE: 0.49\n",
      "Epoch 81, Val RMSE: 0.49\n",
      "Epoch 82, Val RMSE: 0.49\n",
      "Epoch 83, Val RMSE: 0.49\n",
      "Epoch 84, Val RMSE: 0.49\n",
      "Epoch 85, Val RMSE: 0.49\n",
      "Epoch 86, Val RMSE: 0.49\n",
      "Epoch 87, Val RMSE: 0.49\n",
      "Epoch 88, Val RMSE: 0.49\n",
      "Epoch 89, Val RMSE: 0.49\n",
      "Epoch 90, Val RMSE: 0.49\n",
      "Epoch 91, Val RMSE: 0.49\n",
      "Epoch 92, Val RMSE: 0.49\n",
      "Epoch 93, Val RMSE: 0.49\n",
      "Epoch 94, Val RMSE: 0.49\n",
      "Epoch 95, Val RMSE: 0.49\n",
      "Epoch 96, Val RMSE: 0.49\n",
      "Epoch 97, Val RMSE: 0.49\n",
      "Epoch 98, Val RMSE: 0.49\n",
      "Epoch 99, Val RMSE: 0.48\n",
      "Epoch 100, Val RMSE: 0.48\n"
     ]
    }
   ],
   "source": [
    "\n",
    "criterion = nn.MSELoss()\n",
    "optimizer = optim.Adam(model.parameters(), lr=0.001)\n",
    "\n",
    "epochs = 100\n",
    "best_rmse = float('inf')\n",
    "patience = 10\n",
    "trigger = 0\n",
    "\n",
    "for epoch in range(epochs):\n",
    "    model.train()\n",
    "    optimizer.zero_grad()\n",
    "    outputs = model(X_train_tensor)\n",
    "    loss = criterion(outputs, y_train_tensor)\n",
    "    loss.backward()\n",
    "    optimizer.step()\n",
    "\n",
    "    model.eval()\n",
    "    with torch.no_grad():\n",
    "        val_outputs = model(X_valid_tensor)\n",
    "        val_loss = criterion(val_outputs, y_valid_tensor)\n",
    "        val_rmse = np.sqrt(val_loss.item())\n",
    "\n",
    "    print(f\"Epoch {epoch+1}, Val RMSE: {val_rmse:.2f}\")\n",
    "    \n",
    "    if val_rmse < best_rmse:\n",
    "        best_rmse = val_rmse\n",
    "        best_model_state = model.state_dict()\n",
    "        trigger = 0\n",
    "    else:\n",
    "        trigger += 1\n",
    "        if trigger >= patience:\n",
    "            print(\"Early stopping.\")\n",
    "            break\n"
   ]
  },
  {
   "cell_type": "code",
   "execution_count": 8,
   "id": "095a9da3",
   "metadata": {},
   "outputs": [
    {
     "name": "stdout",
     "output_type": "stream",
     "text": [
      "✅ RMSE test: 55694.82824356644\n"
     ]
    }
   ],
   "source": [
    "\n",
    "model.load_state_dict(best_model_state)\n",
    "model.eval()\n",
    "with torch.no_grad():\n",
    "    y_test_pred_scaled = model(X_test_tensor).cpu().numpy()\n",
    "    y_test_pred = y_scaler.inverse_transform(y_test_pred_scaled)\n",
    "    rmse_test = np.sqrt(mean_squared_error(y_test, y_test_pred))\n",
    "    print(\"✅ RMSE test:\", rmse_test)\n",
    "\n",
    "# Guardar predicciones\n",
    "pd.DataFrame({\n",
    "    \"y_real\": y_test.values,\n",
    "    \"y_pred\": y_test_pred.flatten()\n",
    "}).to_csv(\"predicciones_test_pytorch.csv\", index=False)\n"
   ]
  }
 ],
 "metadata": {
  "kernelspec": {
   "display_name": "tf_master_env",
   "language": "python",
   "name": "python3"
  },
  "language_info": {
   "codemirror_mode": {
    "name": "ipython",
    "version": 3
   },
   "file_extension": ".py",
   "mimetype": "text/x-python",
   "name": "python",
   "nbconvert_exporter": "python",
   "pygments_lexer": "ipython3",
   "version": "3.10.0"
  }
 },
 "nbformat": 4,
 "nbformat_minor": 5
}
