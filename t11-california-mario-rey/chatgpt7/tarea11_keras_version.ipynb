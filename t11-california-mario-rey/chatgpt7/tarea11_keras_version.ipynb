{
 "cells": [
  {
   "cell_type": "markdown",
   "id": "743915c9",
   "metadata": {},
   "source": [
    "# Red Neuronal en Keras (basada en notebook PyTorch)"
   ]
  },
  {
   "cell_type": "markdown",
   "id": "054c1ba0",
   "metadata": {},
   "source": [
    "\n",
    "Este notebook implementa una red neuronal en **Keras** equivalente a la versión en PyTorch usada en la Tarea 11.  \n",
    "Se mantiene el mismo preprocesamiento (`preprocessing.py`) y estructura general del flujo de entrenamiento.\n",
    "\n",
    "**Arquitectura**: 256 → 128 → 1 con `ReLU`, Dropout y EarlyStopping.  \n",
    "Se incluye evaluación del RMSE sobre el conjunto de test.\n"
   ]
  },
  {
   "cell_type": "code",
   "execution_count": null,
   "id": "50e2ef82",
   "metadata": {},
   "outputs": [],
   "source": [
    "\n",
    "import pandas as pd\n",
    "import numpy as np\n",
    "import matplotlib.pyplot as plt\n",
    "from sklearn.model_selection import train_test_split\n",
    "from sklearn.preprocessing import StandardScaler\n",
    "from sklearn.metrics import mean_squared_error\n",
    "from preprocessing import get_preprocessor\n",
    "import tensorflow as tf\n",
    "from tensorflow import keras\n"
   ]
  },
  {
   "cell_type": "code",
   "execution_count": null,
   "id": "2c8bd02f",
   "metadata": {},
   "outputs": [],
   "source": [
    "\n",
    "# Cargar datos\n",
    "housing = pd.read_csv(\"housing.csv\").dropna()\n",
    "X = housing.drop(\"median_house_value\", axis=1)\n",
    "y = housing[\"median_house_value\"]\n",
    "\n",
    "# División\n",
    "X_train_full, X_test, y_train_full, y_test = train_test_split(X, y, test_size=0.2, random_state=42)\n",
    "X_train, X_valid, y_train, y_valid = train_test_split(X_train_full, y_train_full, test_size=0.2, random_state=42)\n",
    "\n",
    "# Escalado del target\n",
    "y_scaler = StandardScaler()\n",
    "y_train_scaled = y_scaler.fit_transform(y_train.values.reshape(-1, 1))\n",
    "y_valid_scaled = y_scaler.transform(y_valid.values.reshape(-1, 1))\n",
    "y_test_scaled = y_scaler.transform(y_test.values.reshape(-1, 1))\n",
    "\n",
    "# Preprocesamiento de features\n",
    "preprocessor = get_preprocessor(housing)\n",
    "X_train_prep = preprocessor.fit_transform(X_train)\n",
    "X_valid_prep = preprocessor.transform(X_valid)\n",
    "X_test_prep = preprocessor.transform(X_test)\n"
   ]
  },
  {
   "cell_type": "code",
   "execution_count": null,
   "id": "c1dbbc12",
   "metadata": {},
   "outputs": [],
   "source": [
    "\n",
    "# Arquitectura: 256 → 128 → 1\n",
    "model = keras.models.Sequential([\n",
    "    keras.layers.Input(shape=X_train_prep.shape[1]),\n",
    "    keras.layers.Dense(256, activation=\"relu\"),\n",
    "    keras.layers.Dropout(0.3),\n",
    "    keras.layers.Dense(128, activation=\"relu\"),\n",
    "    keras.layers.Dense(1)\n",
    "])\n",
    "\n",
    "model.compile(loss=\"mean_squared_error\", optimizer=keras.optimizers.Adam(learning_rate=0.001))\n",
    "model.summary()\n"
   ]
  },
  {
   "cell_type": "code",
   "execution_count": null,
   "id": "67b565ae",
   "metadata": {},
   "outputs": [],
   "source": [
    "\n",
    "early_stopping_cb = keras.callbacks.EarlyStopping(patience=10, restore_best_weights=True)\n",
    "\n",
    "history = model.fit(\n",
    "    X_train_prep, y_train_scaled,\n",
    "    epochs=100,\n",
    "    validation_data=(X_valid_prep, y_valid_scaled),\n",
    "    callbacks=[early_stopping_cb]\n",
    ")\n"
   ]
  },
  {
   "cell_type": "code",
   "execution_count": null,
   "id": "b7b4e28b",
   "metadata": {},
   "outputs": [],
   "source": [
    "\n",
    "plt.plot(history.history[\"loss\"], label=\"train\")\n",
    "plt.plot(history.history[\"val_loss\"], label=\"val\")\n",
    "plt.title(\"Evolución del error (MSE)\")\n",
    "plt.xlabel(\"Epochs\")\n",
    "plt.ylabel(\"Loss\")\n",
    "plt.grid(True)\n",
    "plt.legend()\n",
    "plt.show()\n"
   ]
  },
  {
   "cell_type": "code",
   "execution_count": null,
   "id": "6deb07aa",
   "metadata": {},
   "outputs": [],
   "source": [
    "\n",
    "y_test_pred_scaled = model.predict(X_test_prep)\n",
    "y_test_pred = y_scaler.inverse_transform(y_test_pred_scaled)\n",
    "rmse_test = np.sqrt(mean_squared_error(y_test, y_test_pred))\n",
    "print(\"✅ RMSE test (modelo Keras):\", rmse_test)\n",
    "\n",
    "plt.figure(figsize=(8,6))\n",
    "plt.scatter(y_test, y_test_pred, alpha=0.4)\n",
    "plt.plot([y_test.min(), y_test.max()], [y_test.min(), y_test.max()], \"r--\")\n",
    "plt.xlabel(\"Valor real ($)\")\n",
    "plt.ylabel(\"Predicción ($)\")\n",
    "plt.title(\"Red neuronal Keras vs valores reales (test)\")\n",
    "plt.grid(True)\n",
    "plt.show()\n"
   ]
  }
 ],
 "metadata": {},
 "nbformat": 4,
 "nbformat_minor": 5
}
