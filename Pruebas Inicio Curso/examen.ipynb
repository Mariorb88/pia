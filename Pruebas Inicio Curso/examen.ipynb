{
 "cells": [
  {
   "cell_type": "markdown",
   "metadata": {},
   "source": [
    "# Apuntes de cara al examen"
   ]
  },
  {
   "cell_type": "code",
   "execution_count": null,
   "metadata": {
    "vscode": {
     "languageId": "plaintext"
    }
   },
   "outputs": [],
   "source": [
    "Posibles preguntas\n",
    "\n",
    "\n",
    "-¿En Producción tiene sentido dividir entre entrenamiento y test?\n",
    "No, en producción lo que se quiere es ejecutar el modelo con los datos nuevos.\n",
    "\n",
    "\n",
    "-Precision, accuracy, f1-score, recal...\n",
    "\n",
    "-Podría ser interesante hacer un ONE HOT ENCODING personalizado para SEX y que los nan sean 0 0 0.\n",
    "\n",
    "-En clasificación stratificar por target siempre."
   ]
  }
 ],
 "metadata": {
  "language_info": {
   "name": "python"
  }
 },
 "nbformat": 4,
 "nbformat_minor": 2
}
