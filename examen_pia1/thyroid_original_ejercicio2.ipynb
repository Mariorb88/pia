{
 "cells": [
  {
   "cell_type": "markdown",
   "metadata": {},
   "source": [
    "# Modelo de detección de enfermedades de tiroides"
   ]
  },
  {
   "cell_type": "markdown",
   "metadata": {},
   "source": [
    "## Definición del *pipeline*"
   ]
  },
  {
   "cell_type": "code",
   "execution_count": 1,
   "metadata": {},
   "outputs": [],
   "source": [
    "from sklearn.base import BaseEstimator, TransformerMixin\n",
    "import numpy as np\n",
    "\n",
    "\n",
    "class AgeOutlierImputer(BaseEstimator, TransformerMixin):\n",
    "    \"\"\"\n",
    "    Custom transformer to handle age outliers by imputing values over 150 \n",
    "    with the median age of the dataset.\n",
    "    \"\"\"\n",
    "    def __init__(self, threshold=150):\n",
    "        self.threshold = threshold\n",
    "        self.median_age = None\n",
    "        \n",
    "    def fit(self, X, y=None):\n",
    "        # Calculate median age excluding outliers\n",
    "        self.median_age = np.median(X[X <= self.threshold])\n",
    "        return self\n",
    "        \n",
    "    def transform(self, X):\n",
    "        X_copy = X.copy()\n",
    "        mask = X_copy > self.threshold\n",
    "        X_copy[mask] = self.median_age\n",
    "        return X_copy"
   ]
  },
  {
   "cell_type": "code",
   "execution_count": 2,
   "metadata": {},
   "outputs": [],
   "source": [
    "class TSHLogTransformer(BaseEstimator, TransformerMixin):\n",
    "    \"\"\"\n",
    "    Custom transformer to handle TSH's right-skewed distribution \n",
    "    using log transformation with handling of zeros.\n",
    "    \"\"\"\n",
    "    def fit(self, X, y=None):\n",
    "        return self\n",
    "        \n",
    "    def transform(self, X):\n",
    "        X_copy = X.copy()\n",
    "        # Add small constant before log transform to handle zeros\n",
    "        return np.log1p(X_copy)"
   ]
  },
  {
   "cell_type": "code",
   "execution_count": 3,
   "metadata": {},
   "outputs": [],
   "source": [
    "from sklearn.pipeline import Pipeline\n",
    "from sklearn.compose import ColumnTransformer\n",
    "from sklearn.preprocessing import StandardScaler, LabelEncoder, OneHotEncoder\n",
    "from sklearn.impute import SimpleImputer\n",
    "import GroupMedianImputer as gmi\n",
    "\n",
    "\n",
    "standard_numeric = ['TT4', 'T4U', 'FTI', 'T3']\n",
    "\n",
    "# Special handling for TSH (right-skewed distribution)\n",
    "tsh_feature = ['TSH']\n",
    "\n",
    "\n",
    "# Binary categorical features\n",
    "binary_features = ['on_thyroxine', 'query_on_thyroxine', 'on_antithyroid_meds',\n",
    "                    'sick', 'pregnant', 'thyroid_surgery', 'I131_treatment',\n",
    "                    'query_hypothyroid', 'query_hyperthyroid', 'lithium',\n",
    "                    'goitre', 'tumor', 'hypopituitary', 'psych']\n",
    "\n",
    "# categorical categorical features\n",
    "categorical_features = ['referral_source']\n",
    "\n",
    "# Create specialized pipelines\n",
    "age_pipeline = Pipeline([\n",
    "    ('imputer', SimpleImputer(strategy='median')),\n",
    "    ('outlier_handler', AgeOutlierImputer(threshold=150)),\n",
    "    ('scaler', StandardScaler())\n",
    "])\n",
    "\n",
    "standard_numeric_pipeline = Pipeline([\n",
    "    ('imputer', SimpleImputer(strategy='median')),\n",
    "    ('scaler', StandardScaler())\n",
    "])\n",
    "\n",
    "tsh_pipeline = Pipeline([\n",
    "    ('imputer', SimpleImputer(strategy='median')),\n",
    "    ('log_transform', TSHLogTransformer()),\n",
    "    ('scaler', StandardScaler())\n",
    "])\n",
    "\n",
    "categorical_pipeline = Pipeline([\n",
    "    ('imputer', SimpleImputer(strategy='constant', fill_value='missing')),\n",
    "    ('onehot', OneHotEncoder(handle_unknown='ignore', sparse_output=False)),\n",
    "])\n",
    "\n",
    "# Create specialized pipelines\n",
    "median_sex_pipeline = Pipeline([\n",
    "    ('median_sex_imputer', gmi.GroupedMedianImputer(group_col='sex', columns_to_impute=standard_numeric)),\n",
    "    ('scaler', StandardScaler())\n",
    "])\n",
    "\n",
    "# Create the column transformer\n",
    "preprocessor = ColumnTransformer(\n",
    "    transformers=[\n",
    "        ('age', age_pipeline, ['age']),\n",
    "        ('standard_numeric', standard_numeric_pipeline, standard_numeric),\n",
    "        ('tsh', tsh_pipeline, tsh_feature),\n",
    "        ('binary', OneHotEncoder(drop='if_binary', handle_unknown='ignore', sparse_output=False), \n",
    "            binary_features),\n",
    "        ('categorical', categorical_pipeline, categorical_features),\n",
    "    ],\n",
    "    remainder='drop' # NOTA: el comentario previo aquí indicaba que esto eliminaba TBG, sin embargo, se está eliminando explícitamente antes de pasar el pipeline. No era un problema, simplemente redundante (más robusto así), por lo que se eliminó el comentario para no confundir.\n",
    ")\n",
    "\n",
    "#Mario. Mediana Global\n",
    "preprocessor_mediana = ColumnTransformer(\n",
    "    transformers=[\n",
    "        ('median_imputer', SimpleImputer(strategy='median'), ['TBG']),\n",
    "        ('age', age_pipeline, ['age']),\n",
    "        ('standard_numeric', standard_numeric_pipeline, standard_numeric),\n",
    "        ('tsh', tsh_pipeline, tsh_feature),\n",
    "        ('binary', OneHotEncoder(drop='if_binary', handle_unknown='ignore', sparse_output=False), \n",
    "            binary_features),\n",
    "        ('categorical', categorical_pipeline, categorical_features),\n",
    "    ],\n",
    "    remainder='drop' # NOTA: el comentario previo aquí indicaba que esto eliminaba TBG, sin embargo, se está eliminando explícitamente antes de pasar el pipeline. No era un problema, simplemente redundante (más robusto así), por lo que se eliminó el comentario para no confundir.\n",
    ")\n",
    "\n",
    "#Mario. Modelo con la mediana del sexo\n",
    "preprocessor_mediana_sexo = ColumnTransformer(\n",
    "    transformers=[\n",
    "        ('age', age_pipeline, ['age']),\n",
    "        ('tsh', tsh_pipeline, tsh_feature),\n",
    "        ('binary', OneHotEncoder(drop='if_binary', handle_unknown='ignore', sparse_output=False), \n",
    "            binary_features),\n",
    "        ('categorical', categorical_pipeline, categorical_features),\n",
    "        ('standard_numeric', median_sex_pipeline, ['TT4', 'T4U', 'FTI', 'T3', 'sex']),\n",
    "    ],\n",
    "    remainder='passthrough' # NOTA: el comentario previo aquí indicaba que esto eliminaba TBG, sin embargo, se está eliminando explícitamente antes de pasar el pipeline. No era un problema, simplemente redundante (más robusto así), por lo que se eliminó el comentario para no confundir.\n",
    ")\n",
    "\n",
    "# mario. Último modelo. Usando parámetro\n",
    "preprocessor_pass = ColumnTransformer(\n",
    "    transformers=[\n",
    "        ('age', age_pipeline, ['age']),\n",
    "        ('standard_numeric', standard_numeric_pipeline, standard_numeric),\n",
    "        #('tsh', tsh_pipeline, tsh_feature),\n",
    "        ('binary', OneHotEncoder(drop='if_binary', handle_unknown='ignore', sparse_output=False), \n",
    "            binary_features),\n",
    "        ('categorical', categorical_pipeline, categorical_features),\n",
    "    ],\n",
    "    remainder='passthrough' \n",
    "    )\n",
    "\n",
    "\n"
   ]
  },
  {
   "cell_type": "markdown",
   "metadata": {},
   "source": [
    "El argumento `drop='if_binary'` de OneHotEncoder permite eliminar una de las columnas de salida cuando la variable categórica es binaria (crear una columna para f y otra para t es redundante)."
   ]
  },
  {
   "cell_type": "code",
   "execution_count": 4,
   "metadata": {},
   "outputs": [],
   "source": [
    "from sklearn.ensemble import RandomForestClassifier\n",
    "from sklearn.svm import SVC\n",
    "\n",
    "pipeline_random_forest = Pipeline([\n",
    "    ('preprocessor', preprocessor),\n",
    "    ('classifier', RandomForestClassifier(random_state=42))\n",
    "])\n",
    "\n",
    "pipeline_svm = Pipeline([\n",
    "    ('preprocessor', preprocessor),\n",
    "    ('classifier', SVC(random_state=42))\n",
    "])\n",
    "\n",
    "\n",
    "pipeline_rf_mediana = Pipeline([\n",
    "    ('preprocessor', preprocessor_mediana),\n",
    "    ('classifier', RandomForestClassifier(random_state=42))\n",
    "])\n",
    "\n",
    "pipeline_rf_mediana_sexo = Pipeline([\n",
    "    ('preprocessor', preprocessor_mediana_sexo),\n",
    "    ('classifier', RandomForestClassifier(random_state=42))\n",
    "])\n",
    "\n",
    "\n",
    "pipeline_random_forest_param = Pipeline([\n",
    "    ('preprocessor', preprocessor_pass),\n",
    "    ('classifier', RandomForestClassifier(random_state=42,max_depth= None,min_samples_split=2, n_estimators= 100))\n",
    "])\n",
    "\n"
   ]
  },
  {
   "cell_type": "markdown",
   "metadata": {},
   "source": [
    "## *Pipeline* de entrenamiento"
   ]
  },
  {
   "cell_type": "markdown",
   "metadata": {},
   "source": [
    "### Carga y preparación de datos"
   ]
  },
  {
   "cell_type": "code",
   "execution_count": 5,
   "metadata": {},
   "outputs": [],
   "source": [
    "import pandas as pd\n",
    "file_path = \"./data/thyroidDF.csv\"\n",
    "df = pd.read_csv(file_path)\n",
    "\n",
    "# Simplify the target variable\n",
    "class_mapping = {\n",
    "    '-': 'negative',\n",
    "    'K': 'hyperthyroid', 'B': 'hyperthyroid', 'H|K': 'hyperthyroid',\n",
    "    'KJ': 'hyperthyroid', 'GI': 'hyperthyroid',\n",
    "    'G': 'hypothyroid', 'I': 'hypothyroid', 'F': 'hypothyroid', 'C|I': 'hypothyroid',\n",
    "    'E': 'negative', 'LJ': 'negative', 'D|R': 'negative',\n",
    "}\n",
    "\n",
    "df['target'] = df['target'].map(class_mapping)\n",
    "\n",
    "df = df.dropna(subset=['target'])\n",
    "\n",
    "df['sex'] = df['sex'].map({'F': 1, 'M': 0})"
   ]
  },
  {
   "cell_type": "code",
   "execution_count": 6,
   "metadata": {},
   "outputs": [],
   "source": [
    "from sklearn.model_selection import train_test_split\n",
    "measured_cols = [col for col in df.columns if col.endswith('_measured')]\n",
    "\n",
    "columns_to_drop = [\n",
    "    'patient_id',\n",
    "    *measured_cols,  # Unpack the list of measured columns\n",
    "   #Mario. Lo comento para no borrar la columna 'TBG', # excessive missing values (96,6%)\n",
    "]\n",
    "\n",
    "X = df.drop(columns_to_drop + ['target'], axis=1)\n",
    "y = df['target']"
   ]
  },
  {
   "cell_type": "code",
   "execution_count": 7,
   "metadata": {},
   "outputs": [],
   "source": [
    "X_train, X_test, y_train, y_test = train_test_split(\n",
    "    X, y, test_size=0.2, random_state=42, stratify=y\n",
    ")"
   ]
  },
  {
   "cell_type": "code",
   "execution_count": 8,
   "metadata": {},
   "outputs": [],
   "source": [
    "le = LabelEncoder()\n",
    "y_train = le.fit_transform(y_train)\n",
    "y_test = le.transform(y_test)"
   ]
  },
  {
   "cell_type": "markdown",
   "metadata": {},
   "source": [
    "### Evaluación y elección de modelos mediante *cross-validation*"
   ]
  },
  {
   "cell_type": "markdown",
   "metadata": {},
   "source": [
    "Comparamos dos modelos con cross-validation, uno con los datos originales y otro con los datos escalados."
   ]
  },
  {
   "cell_type": "code",
   "execution_count": 9,
   "metadata": {},
   "outputs": [
    {
     "name": "stderr",
     "output_type": "stream",
     "text": [
      "c:\\Users\\a24mariorb\\AppData\\Local\\anaconda3\\envs\\tensorflow\\lib\\site-packages\\sklearn\\preprocessing\\_encoders.py:246: UserWarning: Found unknown categories in columns [12] during transform. These unknown categories will be encoded as all zeros\n",
      "  warnings.warn(\n",
      "c:\\Users\\a24mariorb\\AppData\\Local\\anaconda3\\envs\\tensorflow\\lib\\site-packages\\sklearn\\preprocessing\\_encoders.py:246: UserWarning: Found unknown categories in columns [12] during transform. These unknown categories will be encoded as all zeros\n",
      "  warnings.warn(\n",
      "c:\\Users\\a24mariorb\\AppData\\Local\\anaconda3\\envs\\tensorflow\\lib\\site-packages\\sklearn\\preprocessing\\_encoders.py:246: UserWarning: Found unknown categories in columns [12] during transform. These unknown categories will be encoded as all zeros\n",
      "  warnings.warn(\n",
      "c:\\Users\\a24mariorb\\AppData\\Local\\anaconda3\\envs\\tensorflow\\lib\\site-packages\\sklearn\\preprocessing\\_encoders.py:246: UserWarning: Found unknown categories in columns [12] during transform. These unknown categories will be encoded as all zeros\n",
      "  warnings.warn(\n",
      "c:\\Users\\a24mariorb\\AppData\\Local\\anaconda3\\envs\\tensorflow\\lib\\site-packages\\sklearn\\preprocessing\\_encoders.py:246: UserWarning: Found unknown categories in columns [12] during transform. These unknown categories will be encoded as all zeros\n",
      "  warnings.warn(\n"
     ]
    },
    {
     "name": "stdout",
     "output_type": "stream",
     "text": [
      "Random Forest: 0.9707675614769065\n",
      "SVM: 0.943970666824322\n",
      "Random Forest Mediana: 0.9707682570153751\n",
      "Random Forest Mediana Sexo: 0.9709203480938188\n",
      "Random Forest Con Parámetros: 0.9706153544753843\n"
     ]
    }
   ],
   "source": [
    "from sklearn.model_selection import cross_val_score\n",
    "from sklearn.model_selection import StratifiedKFold\n",
    "\n",
    "stratified_cv = StratifiedKFold(n_splits=5, shuffle=True, random_state=42)\n",
    "#print(X_train.head)\n",
    "\n",
    "scores_random_forest = cross_val_score(pipeline_random_forest, X_train, y_train, cv=stratified_cv, scoring='accuracy')\n",
    "scores_svm = cross_val_score(pipeline_svm, X_train, y_train, cv=stratified_cv, scoring='accuracy')\n",
    "\n",
    "\n",
    "#Mario. Mis modelos del ejercicio2\n",
    "scores_random_forest_mediana = cross_val_score(pipeline_rf_mediana, X_train, y_train, cv=stratified_cv, scoring='accuracy')\n",
    "scores_random_forest_mediana_sexo = cross_val_score(pipeline_rf_mediana_sexo, X_train, y_train, cv=stratified_cv, scoring='accuracy')\n",
    "scores_random_forest_param = cross_val_score(pipeline_random_forest_param, X_train, y_train, cv=stratified_cv, scoring='accuracy')\n",
    "\n",
    "print(f'Random Forest: {scores_random_forest.mean()}')\n",
    "print(f'SVM: {scores_svm.mean()}')\n",
    "\n",
    "#Mario. Mis modelos del ejercicio2\n",
    "print(f'Random Forest Mediana: {scores_random_forest_mediana.mean()}')\n",
    "print(f'Random Forest Mediana Sexo: {scores_random_forest_mediana_sexo.mean()}')\n",
    "print(f'Random Forest Con Parámetros: {scores_random_forest_param.mean()}')"
   ]
  },
  {
   "cell_type": "markdown",
   "metadata": {},
   "source": [
    "Hemos evaluado sobre sobre la *accuracy* (scoring='accuracy'). Sin embargo, tenemos unas clases un poco desbalanceadas, y además es más importante detectar los casos positivos (enfermos) que los negativos (sanos). Vamos por tanto a priorizar la sensibilidad (recall) en la evaluación de los modelos. Crearemos un evaluador personalizado que devuelva la *recall* media de las dos clases positivas (hypothyroid y hyperthyroid)."
   ]
  },
  {
   "cell_type": "code",
   "execution_count": null,
   "metadata": {},
   "outputs": [
    {
     "name": "stderr",
     "output_type": "stream",
     "text": [
      "c:\\Users\\a24mariorb\\AppData\\Local\\anaconda3\\envs\\tensorflow\\lib\\site-packages\\sklearn\\preprocessing\\_encoders.py:246: UserWarning: Found unknown categories in columns [12] during transform. These unknown categories will be encoded as all zeros\n",
      "  warnings.warn(\n",
      "c:\\Users\\a24mariorb\\AppData\\Local\\anaconda3\\envs\\tensorflow\\lib\\site-packages\\sklearn\\preprocessing\\_encoders.py:246: UserWarning: Found unknown categories in columns [12] during transform. These unknown categories will be encoded as all zeros\n",
      "  warnings.warn(\n",
      "c:\\Users\\a24mariorb\\AppData\\Local\\anaconda3\\envs\\tensorflow\\lib\\site-packages\\sklearn\\preprocessing\\_encoders.py:246: UserWarning: Found unknown categories in columns [12] during transform. These unknown categories will be encoded as all zeros\n",
      "  warnings.warn(\n",
      "c:\\Users\\a24mariorb\\AppData\\Local\\anaconda3\\envs\\tensorflow\\lib\\site-packages\\sklearn\\preprocessing\\_encoders.py:246: UserWarning: Found unknown categories in columns [12] during transform. These unknown categories will be encoded as all zeros\n",
      "  warnings.warn(\n"
     ]
    },
    {
     "name": "stdout",
     "output_type": "stream",
     "text": [
      "Random Forest Disease Recall: 0.89990\n",
      "SVM Disease Recall: 0.75834\n",
      "Random Forest Mediana Disease Recall: 0.90054\n",
      "Random Forest Mediana Sexo Disease Recall: 0.89157\n",
      "Random Forest Con Parámetros Disease Recall: 0.88951\n"
     ]
    },
    {
     "name": "stderr",
     "output_type": "stream",
     "text": [
      "c:\\Users\\a24mariorb\\AppData\\Local\\anaconda3\\envs\\tensorflow\\lib\\site-packages\\sklearn\\preprocessing\\_encoders.py:246: UserWarning: Found unknown categories in columns [12] during transform. These unknown categories will be encoded as all zeros\n",
      "  warnings.warn(\n"
     ]
    }
   ],
   "source": [
    "from sklearn.metrics import make_scorer, recall_score\n",
    "import numpy as np\n",
    "\n",
    "def custom_recall(y_true, y_pred):\n",
    "    # Get original class names from the LabelEncoder\n",
    "    all_classes = le.classes_\n",
    "    # Calculate recall for each class using original labels\n",
    "    recalls = recall_score(le.inverse_transform(y_true), \n",
    "                          le.inverse_transform(y_pred), \n",
    "                          labels=all_classes, \n",
    "                          average=None, \n",
    "                          zero_division=0)\n",
    "    # Get indices for disease classes\n",
    "    disease_indices = [np.where(all_classes == cls)[0][0] \n",
    "                      for cls in ['hyperthyroid', 'hypothyroid']]\n",
    "    return np.mean(recalls[disease_indices])\n",
    "\n",
    "disease_recall_scorer = make_scorer(custom_recall)\n",
    "\n",
    "scores_random_forest = cross_val_score(pipeline_random_forest, X_train, y_train, \n",
    "                                      cv=5, scoring=disease_recall_scorer)\n",
    "scores_svm = cross_val_score(pipeline_svm, X_train, y_train, \n",
    "                            cv=5, scoring=disease_recall_scorer)\n",
    "#Mario. Mis modelos del ejercicio2\n",
    "scores_random_forest_mediana = cross_val_score(pipeline_rf_mediana, X_train, y_train, \n",
    "                                      cv=5, scoring=disease_recall_scorer)\n",
    "\n",
    "scores_random_forest_mediana_sexo = cross_val_score(pipeline_rf_mediana_sexo, X_train, y_train, \n",
    "                                      cv=5, scoring=disease_recall_scorer)\n",
    "\n",
    "scores_random_forest_param = cross_val_score(pipeline_random_forest_param, X_train, y_train, \n",
    "                                      cv=5, scoring=disease_recall_scorer)\n",
    "\n",
    "print(f'Random Forest Disease Recall: {scores_random_forest.mean():.5f}')\n",
    "print(f'SVM Disease Recall: {scores_svm.mean():.5f}')\n",
    "\n",
    "#Mario. Mis modelos del ejercicio2\n",
    "print(f'Random Forest Mediana Disease Recall: {scores_random_forest_mediana.mean():.5f}')\n",
    "print(f'Random Forest Mediana Sexo Disease Recall: {scores_random_forest_mediana_sexo.mean():.5f}')\n",
    "print(f'Random Forest Con Parámetros Disease Recall: {scores_random_forest_param.mean():.5f}')\n"
   ]
  },
  {
   "cell_type": "markdown",
   "metadata": {},
   "source": [
    "Observamos que el modelo Random Forest sigue siendo el mejor de los dos que hemos probado."
   ]
  },
  {
   "cell_type": "markdown",
   "metadata": {},
   "source": [
    "### Evaluación final en el conjunto de test"
   ]
  },
  {
   "cell_type": "code",
   "execution_count": 11,
   "metadata": {},
   "outputs": [
    {
     "data": {
      "text/plain": [
       "['./modelo.joblib']"
      ]
     },
     "execution_count": 11,
     "metadata": {},
     "output_type": "execute_result"
    }
   ],
   "source": [
    "y_pred = pipeline_rf_mediana.fit(X_train, y_train).predict(X_test)\n",
    "\n",
    "\n",
    "#Mario. Exporto el modelo del Random Forest con TBG ysu mediana ya que es el mejor:\n",
    "\n",
    "import joblib\n",
    "joblib.dump(y_pred, \"./modelo.joblib\")\n"
   ]
  },
  {
   "cell_type": "code",
   "execution_count": 12,
   "metadata": {},
   "outputs": [
    {
     "data": {
      "image/png": "[encoded data removed]",
      "text/plain": [
       "<Figure size 1000x800 with 2 Axes>"
      ]
     },
     "metadata": {},
     "output_type": "display_data"
    }
   ],
   "source": [
    "import matplotlib.pyplot as plt\n",
    "import seaborn as sns\n",
    "from sklearn.metrics import confusion_matrix\n",
    "\n",
    "y_test_labels = le.inverse_transform(y_test)\n",
    "y_pred_labels = le.inverse_transform(y_pred)\n",
    "\n",
    "plt.figure(figsize=(10, 8))\n",
    "cm = confusion_matrix(y_test_labels, y_pred_labels)\n",
    "sns.heatmap(cm, annot=True, fmt='d', cmap='Blues', xticklabels=le.classes_, yticklabels=le.classes_)\n",
    "plt.title(f'Matriz de Confusión')\n",
    "plt.ylabel('Valor Real')\n",
    "plt.xlabel('Predicción')\n",
    "plt.show()"
   ]
  },
  {
   "cell_type": "code",
   "execution_count": 13,
   "metadata": {},
   "outputs": [
    {
     "name": "stdout",
     "output_type": "stream",
     "text": [
      "              precision    recall  f1-score   support\n",
      "\n",
      "           0       0.95      0.92      0.93        97\n",
      "           1       0.94      0.92      0.93       190\n",
      "           2       0.98      0.99      0.99      1355\n",
      "\n",
      "    accuracy                           0.98      1642\n",
      "   macro avg       0.96      0.94      0.95      1642\n",
      "weighted avg       0.98      0.98      0.98      1642\n",
      "\n"
     ]
    }
   ],
   "source": [
    "from sklearn.metrics import classification_report\n",
    "print(classification_report(y_test, y_pred))"
   ]
  },
  {
   "cell_type": "markdown",
   "metadata": {},
   "source": [
    "Mario. Evaluación del modelo de la mediana"
   ]
  },
  {
   "cell_type": "code",
   "execution_count": 14,
   "metadata": {},
   "outputs": [
    {
     "data": {
      "image/png": "[encoded data removed]",
      "text/plain": [
       "<Figure size 1000x800 with 2 Axes>"
      ]
     },
     "metadata": {},
     "output_type": "display_data"
    },
    {
     "name": "stdout",
     "output_type": "stream",
     "text": [
      "              precision    recall  f1-score   support\n",
      "\n",
      "           0       0.95      0.92      0.93        97\n",
      "           1       0.94      0.92      0.93       190\n",
      "           2       0.98      0.99      0.99      1355\n",
      "\n",
      "    accuracy                           0.98      1642\n",
      "   macro avg       0.96      0.94      0.95      1642\n",
      "weighted avg       0.98      0.98      0.98      1642\n",
      "\n"
     ]
    }
   ],
   "source": [
    "y_pred_mediana = pipeline_rf_mediana.fit(X_train, y_train).predict(X_test)\n",
    "\n",
    "y_test_mediana_labels = le.inverse_transform(y_test)\n",
    "y_pred_mediana_labels = le.inverse_transform(y_pred_mediana)\n",
    "\n",
    "plt.figure(figsize=(10, 8))\n",
    "cm = confusion_matrix(y_test_mediana_labels, y_pred_mediana_labels)\n",
    "sns.heatmap(cm, annot=True, fmt='d', cmap='Blues', xticklabels=le.classes_, yticklabels=le.classes_)\n",
    "plt.title(f'Matriz de Confusión Random Forest Con Mediana')\n",
    "plt.ylabel('Valor Real')\n",
    "plt.xlabel('Predicción')\n",
    "plt.show()\n",
    "\n",
    "\n",
    "print(classification_report(y_test, y_pred))\n",
    "\n",
    "\n"
   ]
  }
 ],
 "metadata": {
  "kernelspec": {
   "display_name": "tensorflow",
   "language": "python",
   "name": "python3"
  },
  "language_info": {
   "codemirror_mode": {
    "name": "ipython",
    "version": 3
   },
   "file_extension": ".py",
   "mimetype": "text/x-python",
   "name": "python",
   "nbconvert_exporter": "python",
   "pygments_lexer": "ipython3",
   "version": "3.10.13"
  }
 },
 "nbformat": 4,
 "nbformat_minor": 2
}
