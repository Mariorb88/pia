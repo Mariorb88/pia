{
 "cells": [
  {
   "cell_type": "markdown",
   "id": "7685babe",
   "metadata": {},
   "source": [
    "\n",
    "# Explicación paso a paso de una Red Neuronal Convolucional con PyTorch (MNIST)\n",
    "\n",
    "Este notebook recoge una conversación educativa sobre cómo funciona una red neuronal convolucional aplicada al dataset MNIST. Se detallan sus componentes, conceptos como padding, stride y el uso del parámetro `dim=1` en la capa de salida.\n",
    "\n",
    "---\n"
   ]
  },
  {
   "cell_type": "code",
   "execution_count": null,
   "id": "a0be196b",
   "metadata": {},
   "outputs": [],
   "source": [
    "\n",
    "from torch import nn\n",
    "from torch.nn import functional as F\n",
    "\n",
    "class CNN(nn.Module):  # Definimos la red neuronal convolucional\n",
    "    def __init__(self):\n",
    "        super().__init__()\n",
    "        self.conv1 = nn.Conv2d(1, 32, kernel_size=3, padding=1) \n",
    "        self.pool = nn.MaxPool2d(2, 2)\n",
    "        self.conv2 = nn.Conv2d(32, 64, kernel_size=3, padding=1)\n",
    "        self.fc1 = nn.Linear(7 * 7 * 64, 128)\n",
    "        self.fc2 = nn.Linear(128, 10)\n",
    "\n",
    "    def forward(self, x):\n",
    "        x = self.pool(F.relu(self.conv1(x)))\n",
    "        x = self.pool(F.relu(self.conv2(x)))\n",
    "        x = x.view(-1, 7 * 7 * 64)  # Aplanamiento tras las capas convolucionales\n",
    "        x = F.relu(self.fc1(x))\n",
    "        x = F.log_softmax(self.fc2(x), dim=1)  # Use log_softmax for cross-entropy loss\n",
    "        return x\n",
    "\n",
    "model = CNN()  # Instanciamos la red neuronal\n"
   ]
  },
  {
   "cell_type": "markdown",
   "id": "ae20bef0",
   "metadata": {},
   "source": [
    "\n",
    "## 📌 Explicación del modelo CNN\n",
    "\n",
    "- `conv1`: primera capa convolucional. Toma imágenes de entrada con 1 canal (blanco y negro) y aplica 32 filtros 3x3. Usa `padding=1` para conservar el tamaño.\n",
    "- `pool`: aplica `MaxPool2d(2, 2)`, que reduce el tamaño de la imagen a la mitad (stride=2, tamaño de filtro=2x2).\n",
    "- `conv2`: segunda convolución que toma 32 canales y produce 64.\n",
    "- `fc1`: capa totalmente conectada que toma los 7x7x64 valores de salida y los reduce a 128 neuronas.\n",
    "- `fc2`: capa de salida con 10 neuronas, una por cada clase (dígitos del 0 al 9).\n",
    "- `F.log_softmax(..., dim=1)`: convierte las salidas en log-probabilidades a lo largo de las 10 clases.\n",
    "\n"
   ]
  },
  {
   "cell_type": "markdown",
   "id": "d74e8115",
   "metadata": {},
   "source": [
    "\n",
    "## 🧱 ¿Qué es el Padding?\n",
    "\n",
    "El `padding=1` en una convolución con `kernel_size=3` mantiene el tamaño de la imagen:\n",
    "\n",
    "$$\n",
    "\\text{Salida} = \\left\\lfloor \\frac{28 + 2 \\times 1 - 3}{1} \\right\\rfloor + 1 = 28\n",
    "$$\n",
    "\n",
    "Esto evita reducir el tamaño muy rápidamente y conserva la información de los bordes.\n",
    "\n"
   ]
  },
  {
   "cell_type": "markdown",
   "id": "88c890ae",
   "metadata": {},
   "source": [
    "\n",
    "## 🏃‍♂️ ¿Qué es el Stride?\n",
    "\n",
    "El `stride` es el número de píxeles que el filtro avanza cada vez. Si `stride=1`, se mueve de a un píxel; si `stride=2`, se salta uno. A mayor stride, menor tamaño de salida.\n",
    "\n"
   ]
  },
  {
   "cell_type": "markdown",
   "id": "63d058f8",
   "metadata": {},
   "source": [
    "\n",
    "## 🎯 ¿Por qué `dim=1` en `F.log_softmax(..., dim=1)`?\n",
    "\n",
    "En una red de clasificación, la salida típica del modelo tiene forma `[batch_size, num_classes]`, por ejemplo `[64, 10]`.\n",
    "\n",
    "- `dim=1` aplica `softmax` por **fila**, es decir, para cada ejemplo en el batch.\n",
    "- Esto normaliza las 10 clases para cada imagen, convirtiéndolas en probabilidades.\n",
    "\n"
   ]
  }
 ],
 "metadata": {
  "language_info": {
   "name": "python"
  }
 },
 "nbformat": 4,
 "nbformat_minor": 5
}
