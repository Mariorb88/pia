{
 "cells": [
  {
   "cell_type": "markdown",
   "id": "0efa362a",
   "metadata": {},
   "source": [
    "Revisar\n",
    "Padding y Stride (cuántos pixeles se mueve la venta)\n",
    "MaxPooling\n",
    "\n",
    "Hay que entender los números de los modelos de redes neuronales\n",
    "\n",
    "¿Por qué se hace flattern?\n",
    "\n",
    "Normalización de batches y dropout.\n",
    "\n",
    "nbconverter\n",
    "\n",
    "Mostrar la ETA durante las ejecuciones"
   ]
  }
 ],
 "metadata": {
  "language_info": {
   "name": "python"
  }
 },
 "nbformat": 4,
 "nbformat_minor": 5
}
