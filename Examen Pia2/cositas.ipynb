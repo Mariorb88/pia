{
 "cells": [
  {
   "cell_type": "markdown",
   "id": "0efa362a",
   "metadata": {},
   "source": [
    "Revisar\n",
    "Padding y Stride (cuántos pixeles se mueve la venta)\n",
    "MaxPooling\n",
    "\n",
    "Hay que entender los números de los modelos de redes neuronales\n",
    "\n",
    "¿Por qué se hace flattern?\n",
    "\n",
    "Normalización de batches y dropout.\n",
    "\n",
    "nbconverter\n",
    "\n",
    "Mostrar la ETA durante las ejecuciones\n",
    "\n",
    "\n",
    "Cross validation con redes neuronales e hiperparámetros\n",
    "\n",
    "\n",
    "Métricas de clasificación\n",
    "\n",
    "Matriz de Confusión\n",
    "\n",
    "Seguramente nos de un script con train y test y tengamos que hacer  la validación.\n",
    "\n",
    "Discretizar -> Convertir una variable continua en categorías. (pd.cut)\n",
    "\n",
    "Stratificar-> Preservar la proporción de clases en los conjuntos train y test"
   ]
  }
 ],
 "metadata": {
  "language_info": {
   "name": "python"
  }
 },
 "nbformat": 4,
 "nbformat_minor": 5
}
